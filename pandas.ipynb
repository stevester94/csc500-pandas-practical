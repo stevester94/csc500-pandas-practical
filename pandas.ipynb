{
  "nbformat": 4,
  "nbformat_minor": 0,
  "metadata": {
    "colab": {
      "name": "pandas_linkedin_learning.ipynb",
      "provenance": [],
      "collapsed_sections": [],
      "authorship_tag": "ABX9TyNrbtchV5JZoVLjE9PX0S/h",
      "include_colab_link": true
    },
    "kernelspec": {
      "name": "python3",
      "display_name": "Python 3"
    },
    "language_info": {
      "name": "python"
    }
  },
  "cells": [
    {
      "cell_type": "markdown",
      "metadata": {
        "id": "view-in-github",
        "colab_type": "text"
      },
      "source": [
        "<a href=\"https://colab.research.google.com/github/stevester94/csc500-pandas-practical/blob/master/pandas.ipynb\" target=\"_parent\"><img src=\"https://colab.research.google.com/assets/colab-badge.svg\" alt=\"Open In Colab\"/></a>"
      ]
    },
    {
      "cell_type": "markdown",
      "metadata": {
        "id": "2C861oFcadu8"
      },
      "source": [
        "# Intro"
      ]
    },
    {
      "cell_type": "code",
      "metadata": {
        "id": "RzOH3l9nSekp"
      },
      "source": [
        "import pandas as pd"
      ],
      "execution_count": null,
      "outputs": []
    },
    {
      "cell_type": "code",
      "metadata": {
        "id": "JMqecBWfXW-K"
      },
      "source": [
        "url=\"https://gist.githubusercontent.com/stevester94/fd96eed30e808e2e74687270ed29effa/raw/2afff06b9d101d9185ce301a0eb624f508d58806/country_codes.csv\"\n",
        "codes=pd.read_csv(url)\n",
        "\n",
        "# Each entry is a medal given, with all the metadata for the athlete, for that game\n",
        "url=\"https://gist.githubusercontent.com/stevester94/fd96eed30e808e2e74687270ed29effa/raw/2afff06b9d101d9185ce301a0eb624f508d58806/olympics.csv\"\n",
        "oo=pd.read_csv(url, skiprows=4) # There's junk in the beginning, so we skip rows"
      ],
      "execution_count": null,
      "outputs": []
    },
    {
      "cell_type": "code",
      "metadata": {
        "colab": {
          "base_uri": "https://localhost:8080/"
        },
        "id": "b7O_mG8Kaw7r",
        "outputId": "9cd248e0-ff5b-4bd1-fe41-0f2ea5bf56e8"
      },
      "source": [
        "oo.shape # Rows, Columns"
      ],
      "execution_count": null,
      "outputs": [
        {
          "output_type": "execute_result",
          "data": {
            "text/plain": [
              "(29216, 10)"
            ]
          },
          "metadata": {},
          "execution_count": 233
        }
      ]
    },
    {
      "cell_type": "code",
      "metadata": {
        "colab": {
          "base_uri": "https://localhost:8080/",
          "height": 142
        },
        "id": "Tffht2brbMTg",
        "outputId": "4de0bb91-986d-4880-eb1b-f4113137ce1c"
      },
      "source": [
        "oo.head(n=3)"
      ],
      "execution_count": null,
      "outputs": [
        {
          "output_type": "execute_result",
          "data": {
            "text/html": [
              "<div>\n",
              "<style scoped>\n",
              "    .dataframe tbody tr th:only-of-type {\n",
              "        vertical-align: middle;\n",
              "    }\n",
              "\n",
              "    .dataframe tbody tr th {\n",
              "        vertical-align: top;\n",
              "    }\n",
              "\n",
              "    .dataframe thead th {\n",
              "        text-align: right;\n",
              "    }\n",
              "</style>\n",
              "<table border=\"1\" class=\"dataframe\">\n",
              "  <thead>\n",
              "    <tr style=\"text-align: right;\">\n",
              "      <th></th>\n",
              "      <th>City</th>\n",
              "      <th>Edition</th>\n",
              "      <th>Sport</th>\n",
              "      <th>Discipline</th>\n",
              "      <th>Athlete</th>\n",
              "      <th>NOC</th>\n",
              "      <th>Gender</th>\n",
              "      <th>Event</th>\n",
              "      <th>Event_gender</th>\n",
              "      <th>Medal</th>\n",
              "    </tr>\n",
              "  </thead>\n",
              "  <tbody>\n",
              "    <tr>\n",
              "      <th>0</th>\n",
              "      <td>Athens</td>\n",
              "      <td>1896</td>\n",
              "      <td>Aquatics</td>\n",
              "      <td>Swimming</td>\n",
              "      <td>HAJOS, Alfred</td>\n",
              "      <td>HUN</td>\n",
              "      <td>Men</td>\n",
              "      <td>100m freestyle</td>\n",
              "      <td>M</td>\n",
              "      <td>Gold</td>\n",
              "    </tr>\n",
              "    <tr>\n",
              "      <th>1</th>\n",
              "      <td>Athens</td>\n",
              "      <td>1896</td>\n",
              "      <td>Aquatics</td>\n",
              "      <td>Swimming</td>\n",
              "      <td>HERSCHMANN, Otto</td>\n",
              "      <td>AUT</td>\n",
              "      <td>Men</td>\n",
              "      <td>100m freestyle</td>\n",
              "      <td>M</td>\n",
              "      <td>Silver</td>\n",
              "    </tr>\n",
              "    <tr>\n",
              "      <th>2</th>\n",
              "      <td>Athens</td>\n",
              "      <td>1896</td>\n",
              "      <td>Aquatics</td>\n",
              "      <td>Swimming</td>\n",
              "      <td>DRIVAS, Dimitrios</td>\n",
              "      <td>GRE</td>\n",
              "      <td>Men</td>\n",
              "      <td>100m freestyle for sailors</td>\n",
              "      <td>M</td>\n",
              "      <td>Bronze</td>\n",
              "    </tr>\n",
              "  </tbody>\n",
              "</table>\n",
              "</div>"
            ],
            "text/plain": [
              "     City  Edition     Sport  ...                       Event Event_gender   Medal\n",
              "0  Athens     1896  Aquatics  ...              100m freestyle            M    Gold\n",
              "1  Athens     1896  Aquatics  ...              100m freestyle            M  Silver\n",
              "2  Athens     1896  Aquatics  ...  100m freestyle for sailors            M  Bronze\n",
              "\n",
              "[3 rows x 10 columns]"
            ]
          },
          "metadata": {},
          "execution_count": 234
        }
      ]
    },
    {
      "cell_type": "code",
      "metadata": {
        "colab": {
          "base_uri": "https://localhost:8080/"
        },
        "id": "CtioQgvubdxS",
        "outputId": "670abaf9-71ae-4db0-930c-fdf4a71c4728"
      },
      "source": [
        "oo.info() # Gives column break downs"
      ],
      "execution_count": null,
      "outputs": [
        {
          "output_type": "stream",
          "name": "stdout",
          "text": [
            "<class 'pandas.core.frame.DataFrame'>\n",
            "RangeIndex: 29216 entries, 0 to 29215\n",
            "Data columns (total 10 columns):\n",
            " #   Column        Non-Null Count  Dtype \n",
            "---  ------        --------------  ----- \n",
            " 0   City          29216 non-null  object\n",
            " 1   Edition       29216 non-null  int64 \n",
            " 2   Sport         29216 non-null  object\n",
            " 3   Discipline    29216 non-null  object\n",
            " 4   Athlete       29216 non-null  object\n",
            " 5   NOC           29216 non-null  object\n",
            " 6   Gender        29216 non-null  object\n",
            " 7   Event         29216 non-null  object\n",
            " 8   Event_gender  29216 non-null  object\n",
            " 9   Medal         29216 non-null  object\n",
            "dtypes: int64(1), object(9)\n",
            "memory usage: 2.2+ MB\n"
          ]
        }
      ]
    },
    {
      "cell_type": "code",
      "metadata": {
        "colab": {
          "base_uri": "https://localhost:8080/",
          "height": 419
        },
        "id": "VhI-FGyJXjpu",
        "outputId": "67b4fe4c-e3cc-49f1-8859-c687997f338e"
      },
      "source": [
        "oo"
      ],
      "execution_count": null,
      "outputs": [
        {
          "output_type": "execute_result",
          "data": {
            "text/html": [
              "<div>\n",
              "<style scoped>\n",
              "    .dataframe tbody tr th:only-of-type {\n",
              "        vertical-align: middle;\n",
              "    }\n",
              "\n",
              "    .dataframe tbody tr th {\n",
              "        vertical-align: top;\n",
              "    }\n",
              "\n",
              "    .dataframe thead th {\n",
              "        text-align: right;\n",
              "    }\n",
              "</style>\n",
              "<table border=\"1\" class=\"dataframe\">\n",
              "  <thead>\n",
              "    <tr style=\"text-align: right;\">\n",
              "      <th></th>\n",
              "      <th>City</th>\n",
              "      <th>Edition</th>\n",
              "      <th>Sport</th>\n",
              "      <th>Discipline</th>\n",
              "      <th>Athlete</th>\n",
              "      <th>NOC</th>\n",
              "      <th>Gender</th>\n",
              "      <th>Event</th>\n",
              "      <th>Event_gender</th>\n",
              "      <th>Medal</th>\n",
              "    </tr>\n",
              "  </thead>\n",
              "  <tbody>\n",
              "    <tr>\n",
              "      <th>0</th>\n",
              "      <td>Athens</td>\n",
              "      <td>1896</td>\n",
              "      <td>Aquatics</td>\n",
              "      <td>Swimming</td>\n",
              "      <td>HAJOS, Alfred</td>\n",
              "      <td>HUN</td>\n",
              "      <td>Men</td>\n",
              "      <td>100m freestyle</td>\n",
              "      <td>M</td>\n",
              "      <td>Gold</td>\n",
              "    </tr>\n",
              "    <tr>\n",
              "      <th>1</th>\n",
              "      <td>Athens</td>\n",
              "      <td>1896</td>\n",
              "      <td>Aquatics</td>\n",
              "      <td>Swimming</td>\n",
              "      <td>HERSCHMANN, Otto</td>\n",
              "      <td>AUT</td>\n",
              "      <td>Men</td>\n",
              "      <td>100m freestyle</td>\n",
              "      <td>M</td>\n",
              "      <td>Silver</td>\n",
              "    </tr>\n",
              "    <tr>\n",
              "      <th>2</th>\n",
              "      <td>Athens</td>\n",
              "      <td>1896</td>\n",
              "      <td>Aquatics</td>\n",
              "      <td>Swimming</td>\n",
              "      <td>DRIVAS, Dimitrios</td>\n",
              "      <td>GRE</td>\n",
              "      <td>Men</td>\n",
              "      <td>100m freestyle for sailors</td>\n",
              "      <td>M</td>\n",
              "      <td>Bronze</td>\n",
              "    </tr>\n",
              "    <tr>\n",
              "      <th>3</th>\n",
              "      <td>Athens</td>\n",
              "      <td>1896</td>\n",
              "      <td>Aquatics</td>\n",
              "      <td>Swimming</td>\n",
              "      <td>MALOKINIS, Ioannis</td>\n",
              "      <td>GRE</td>\n",
              "      <td>Men</td>\n",
              "      <td>100m freestyle for sailors</td>\n",
              "      <td>M</td>\n",
              "      <td>Gold</td>\n",
              "    </tr>\n",
              "    <tr>\n",
              "      <th>4</th>\n",
              "      <td>Athens</td>\n",
              "      <td>1896</td>\n",
              "      <td>Aquatics</td>\n",
              "      <td>Swimming</td>\n",
              "      <td>CHASAPIS, Spiridon</td>\n",
              "      <td>GRE</td>\n",
              "      <td>Men</td>\n",
              "      <td>100m freestyle for sailors</td>\n",
              "      <td>M</td>\n",
              "      <td>Silver</td>\n",
              "    </tr>\n",
              "    <tr>\n",
              "      <th>...</th>\n",
              "      <td>...</td>\n",
              "      <td>...</td>\n",
              "      <td>...</td>\n",
              "      <td>...</td>\n",
              "      <td>...</td>\n",
              "      <td>...</td>\n",
              "      <td>...</td>\n",
              "      <td>...</td>\n",
              "      <td>...</td>\n",
              "      <td>...</td>\n",
              "    </tr>\n",
              "    <tr>\n",
              "      <th>29211</th>\n",
              "      <td>Beijing</td>\n",
              "      <td>2008</td>\n",
              "      <td>Wrestling</td>\n",
              "      <td>Wrestling Gre-R</td>\n",
              "      <td>ENGLICH, Mirko</td>\n",
              "      <td>GER</td>\n",
              "      <td>Men</td>\n",
              "      <td>84 - 96kg</td>\n",
              "      <td>M</td>\n",
              "      <td>Silver</td>\n",
              "    </tr>\n",
              "    <tr>\n",
              "      <th>29212</th>\n",
              "      <td>Beijing</td>\n",
              "      <td>2008</td>\n",
              "      <td>Wrestling</td>\n",
              "      <td>Wrestling Gre-R</td>\n",
              "      <td>MIZGAITIS, Mindaugas</td>\n",
              "      <td>LTU</td>\n",
              "      <td>Men</td>\n",
              "      <td>96 - 120kg</td>\n",
              "      <td>M</td>\n",
              "      <td>Bronze</td>\n",
              "    </tr>\n",
              "    <tr>\n",
              "      <th>29213</th>\n",
              "      <td>Beijing</td>\n",
              "      <td>2008</td>\n",
              "      <td>Wrestling</td>\n",
              "      <td>Wrestling Gre-R</td>\n",
              "      <td>PATRIKEEV, Yuri</td>\n",
              "      <td>ARM</td>\n",
              "      <td>Men</td>\n",
              "      <td>96 - 120kg</td>\n",
              "      <td>M</td>\n",
              "      <td>Bronze</td>\n",
              "    </tr>\n",
              "    <tr>\n",
              "      <th>29214</th>\n",
              "      <td>Beijing</td>\n",
              "      <td>2008</td>\n",
              "      <td>Wrestling</td>\n",
              "      <td>Wrestling Gre-R</td>\n",
              "      <td>LOPEZ, Mijain</td>\n",
              "      <td>CUB</td>\n",
              "      <td>Men</td>\n",
              "      <td>96 - 120kg</td>\n",
              "      <td>M</td>\n",
              "      <td>Gold</td>\n",
              "    </tr>\n",
              "    <tr>\n",
              "      <th>29215</th>\n",
              "      <td>Beijing</td>\n",
              "      <td>2008</td>\n",
              "      <td>Wrestling</td>\n",
              "      <td>Wrestling Gre-R</td>\n",
              "      <td>BAROEV, Khasan</td>\n",
              "      <td>RUS</td>\n",
              "      <td>Men</td>\n",
              "      <td>96 - 120kg</td>\n",
              "      <td>M</td>\n",
              "      <td>Silver</td>\n",
              "    </tr>\n",
              "  </tbody>\n",
              "</table>\n",
              "<p>29216 rows × 10 columns</p>\n",
              "</div>"
            ],
            "text/plain": [
              "          City  Edition  ... Event_gender   Medal\n",
              "0       Athens     1896  ...            M    Gold\n",
              "1       Athens     1896  ...            M  Silver\n",
              "2       Athens     1896  ...            M  Bronze\n",
              "3       Athens     1896  ...            M    Gold\n",
              "4       Athens     1896  ...            M  Silver\n",
              "...        ...      ...  ...          ...     ...\n",
              "29211  Beijing     2008  ...            M  Silver\n",
              "29212  Beijing     2008  ...            M  Bronze\n",
              "29213  Beijing     2008  ...            M  Bronze\n",
              "29214  Beijing     2008  ...            M    Gold\n",
              "29215  Beijing     2008  ...            M  Silver\n",
              "\n",
              "[29216 rows x 10 columns]"
            ]
          },
          "metadata": {},
          "execution_count": 236
        }
      ]
    },
    {
      "cell_type": "code",
      "metadata": {
        "colab": {
          "base_uri": "https://localhost:8080/"
        },
        "id": "-T8j5WC7Yhpx",
        "outputId": "55e9234c-06db-405f-b643-4f632b911cae"
      },
      "source": [
        "# A series is a one dimensional array of indexed data\n",
        "# Supports ints or strings as index\n",
        "\n",
        "# Columns are accessed via bracket (or .<col> if you're fancy)\n",
        "# Accessing a single column returns a series (you can even see it with the type command)\n",
        "print(type(oo[\"City\"]))\n",
        "oo[\"City\"]\n",
        "\n",
        "\n",
        "# df[\"SeriesName\"]\n",
        "# df.SeriesName # Does not work if the series name has fucked names\n",
        "\n",
        "\n",
        "\n",
        "\n",
        "#oo.City # This works too"
      ],
      "execution_count": null,
      "outputs": [
        {
          "output_type": "stream",
          "name": "stdout",
          "text": [
            "<class 'pandas.core.series.Series'>\n"
          ]
        },
        {
          "output_type": "execute_result",
          "data": {
            "text/plain": [
              "0         Athens\n",
              "1         Athens\n",
              "2         Athens\n",
              "3         Athens\n",
              "4         Athens\n",
              "          ...   \n",
              "29211    Beijing\n",
              "29212    Beijing\n",
              "29213    Beijing\n",
              "29214    Beijing\n",
              "29215    Beijing\n",
              "Name: City, Length: 29216, dtype: object"
            ]
          },
          "metadata": {},
          "execution_count": 237
        }
      ]
    },
    {
      "cell_type": "code",
      "metadata": {
        "colab": {
          "base_uri": "https://localhost:8080/",
          "height": 436
        },
        "id": "u9y3k6k5ZS3d",
        "outputId": "c336ea26-2564-46f0-ccd6-1fede4fc472e"
      },
      "source": [
        "# Can access multiple columns by [[<list of series names>]]\n",
        "print(type(oo[[\"City\", \"Edition\", \"Athlete\"]])) # Note how its a dataframe\n",
        "oo[[\"City\", \"Edition\", \"Athlete\"]]"
      ],
      "execution_count": null,
      "outputs": [
        {
          "output_type": "stream",
          "name": "stdout",
          "text": [
            "<class 'pandas.core.frame.DataFrame'>\n"
          ]
        },
        {
          "output_type": "execute_result",
          "data": {
            "text/html": [
              "<div>\n",
              "<style scoped>\n",
              "    .dataframe tbody tr th:only-of-type {\n",
              "        vertical-align: middle;\n",
              "    }\n",
              "\n",
              "    .dataframe tbody tr th {\n",
              "        vertical-align: top;\n",
              "    }\n",
              "\n",
              "    .dataframe thead th {\n",
              "        text-align: right;\n",
              "    }\n",
              "</style>\n",
              "<table border=\"1\" class=\"dataframe\">\n",
              "  <thead>\n",
              "    <tr style=\"text-align: right;\">\n",
              "      <th></th>\n",
              "      <th>City</th>\n",
              "      <th>Edition</th>\n",
              "      <th>Athlete</th>\n",
              "    </tr>\n",
              "  </thead>\n",
              "  <tbody>\n",
              "    <tr>\n",
              "      <th>0</th>\n",
              "      <td>Athens</td>\n",
              "      <td>1896</td>\n",
              "      <td>HAJOS, Alfred</td>\n",
              "    </tr>\n",
              "    <tr>\n",
              "      <th>1</th>\n",
              "      <td>Athens</td>\n",
              "      <td>1896</td>\n",
              "      <td>HERSCHMANN, Otto</td>\n",
              "    </tr>\n",
              "    <tr>\n",
              "      <th>2</th>\n",
              "      <td>Athens</td>\n",
              "      <td>1896</td>\n",
              "      <td>DRIVAS, Dimitrios</td>\n",
              "    </tr>\n",
              "    <tr>\n",
              "      <th>3</th>\n",
              "      <td>Athens</td>\n",
              "      <td>1896</td>\n",
              "      <td>MALOKINIS, Ioannis</td>\n",
              "    </tr>\n",
              "    <tr>\n",
              "      <th>4</th>\n",
              "      <td>Athens</td>\n",
              "      <td>1896</td>\n",
              "      <td>CHASAPIS, Spiridon</td>\n",
              "    </tr>\n",
              "    <tr>\n",
              "      <th>...</th>\n",
              "      <td>...</td>\n",
              "      <td>...</td>\n",
              "      <td>...</td>\n",
              "    </tr>\n",
              "    <tr>\n",
              "      <th>29211</th>\n",
              "      <td>Beijing</td>\n",
              "      <td>2008</td>\n",
              "      <td>ENGLICH, Mirko</td>\n",
              "    </tr>\n",
              "    <tr>\n",
              "      <th>29212</th>\n",
              "      <td>Beijing</td>\n",
              "      <td>2008</td>\n",
              "      <td>MIZGAITIS, Mindaugas</td>\n",
              "    </tr>\n",
              "    <tr>\n",
              "      <th>29213</th>\n",
              "      <td>Beijing</td>\n",
              "      <td>2008</td>\n",
              "      <td>PATRIKEEV, Yuri</td>\n",
              "    </tr>\n",
              "    <tr>\n",
              "      <th>29214</th>\n",
              "      <td>Beijing</td>\n",
              "      <td>2008</td>\n",
              "      <td>LOPEZ, Mijain</td>\n",
              "    </tr>\n",
              "    <tr>\n",
              "      <th>29215</th>\n",
              "      <td>Beijing</td>\n",
              "      <td>2008</td>\n",
              "      <td>BAROEV, Khasan</td>\n",
              "    </tr>\n",
              "  </tbody>\n",
              "</table>\n",
              "<p>29216 rows × 3 columns</p>\n",
              "</div>"
            ],
            "text/plain": [
              "          City  Edition               Athlete\n",
              "0       Athens     1896         HAJOS, Alfred\n",
              "1       Athens     1896      HERSCHMANN, Otto\n",
              "2       Athens     1896     DRIVAS, Dimitrios\n",
              "3       Athens     1896    MALOKINIS, Ioannis\n",
              "4       Athens     1896    CHASAPIS, Spiridon\n",
              "...        ...      ...                   ...\n",
              "29211  Beijing     2008        ENGLICH, Mirko\n",
              "29212  Beijing     2008  MIZGAITIS, Mindaugas\n",
              "29213  Beijing     2008       PATRIKEEV, Yuri\n",
              "29214  Beijing     2008         LOPEZ, Mijain\n",
              "29215  Beijing     2008        BAROEV, Khasan\n",
              "\n",
              "[29216 rows x 3 columns]"
            ]
          },
          "metadata": {},
          "execution_count": 238
        }
      ]
    },
    {
      "cell_type": "markdown",
      "metadata": {
        "id": "aGS9VIWsaiC1"
      },
      "source": [
        "# Basic Analysis"
      ]
    },
    {
      "cell_type": "markdown",
      "metadata": {
        "id": "UsMvuhXnc9As"
      },
      "source": [
        "## value_counts()"
      ]
    },
    {
      "cell_type": "code",
      "metadata": {
        "colab": {
          "base_uri": "https://localhost:8080/"
        },
        "id": "iCGdDcYkbrLF",
        "outputId": "5f084dc1-2bcc-46d0-d4c1-6ec712b31a57"
      },
      "source": [
        "# How many medals were presented each time the olympics was held\n",
        "\n",
        "# Basically getting count of each unique value in the column\n",
        "\n",
        "# Edition being the year the medal was given\n",
        "print(type(oo[\"Edition\"].value_counts())) # Note how this is a series\n",
        "oo[\"Edition\"].value_counts().head(5)"
      ],
      "execution_count": null,
      "outputs": [
        {
          "output_type": "stream",
          "name": "stdout",
          "text": [
            "<class 'pandas.core.series.Series'>\n"
          ]
        },
        {
          "output_type": "execute_result",
          "data": {
            "text/plain": [
              "2008    2042\n",
              "2000    2015\n",
              "2004    1998\n",
              "1996    1859\n",
              "1992    1705\n",
              "Name: Edition, dtype: int64"
            ]
          },
          "metadata": {},
          "execution_count": 239
        }
      ]
    },
    {
      "cell_type": "code",
      "metadata": {
        "colab": {
          "base_uri": "https://localhost:8080/"
        },
        "id": "5PPMnREdcaWP",
        "outputId": "857b3d0d-2fc1-48ce-ce24-545f38a37c6a"
      },
      "source": [
        "# Lets try it on gender, with ascending true\n",
        "\n",
        "oo.Gender.value_counts(ascending=True)"
      ],
      "execution_count": null,
      "outputs": [
        {
          "output_type": "execute_result",
          "data": {
            "text/plain": [
              "Women     7495\n",
              "Men      21721\n",
              "Name: Gender, dtype: int64"
            ]
          },
          "metadata": {},
          "execution_count": 240
        }
      ]
    },
    {
      "cell_type": "markdown",
      "metadata": {
        "id": "0ajC60INc_qr"
      },
      "source": [
        "## sort_values()"
      ]
    },
    {
      "cell_type": "code",
      "metadata": {
        "colab": {
          "base_uri": "https://localhost:8080/"
        },
        "id": "ihWLtW46csLx",
        "outputId": "83c0ac5d-47b3-4e86-e4ff-b5986b332b91"
      },
      "source": [
        "ath = oo.Athlete.sort_values() # this is a series\n",
        "ath"
      ],
      "execution_count": null,
      "outputs": [
        {
          "output_type": "execute_result",
          "data": {
            "text/plain": [
              "651                 AABYE, Edgar\n",
              "2849       AALTONEN, Arvo Ossian\n",
              "2852       AALTONEN, Arvo Ossian\n",
              "7716    AALTONEN, Paavo Johannes\n",
              "7730    AALTONEN, Paavo Johannes\n",
              "                  ...           \n",
              "603                   ÖSTMO, Ole\n",
              "608                   ÖSTMO, Ole\n",
              "621                   ÖSTMO, Ole\n",
              "596                   ÖSTMO, Ole\n",
              "8051           ÖSTRAND, Per-Olof\n",
              "Name: Athlete, Length: 29216, dtype: object"
            ]
          },
          "metadata": {},
          "execution_count": 241
        }
      ]
    },
    {
      "cell_type": "code",
      "metadata": {
        "colab": {
          "base_uri": "https://localhost:8080/",
          "height": 419
        },
        "id": "ktRGYLr_dRbU",
        "outputId": "5f20ac15-5619-4122-f5ad-db094ce0753b"
      },
      "source": [
        "oo.sort_values(by=[\"Edition\", \"Athlete\"]) # We are sorting by edition, then name (This sorts the whole fucker and is a dataframe)"
      ],
      "execution_count": null,
      "outputs": [
        {
          "output_type": "execute_result",
          "data": {
            "text/html": [
              "<div>\n",
              "<style scoped>\n",
              "    .dataframe tbody tr th:only-of-type {\n",
              "        vertical-align: middle;\n",
              "    }\n",
              "\n",
              "    .dataframe tbody tr th {\n",
              "        vertical-align: top;\n",
              "    }\n",
              "\n",
              "    .dataframe thead th {\n",
              "        text-align: right;\n",
              "    }\n",
              "</style>\n",
              "<table border=\"1\" class=\"dataframe\">\n",
              "  <thead>\n",
              "    <tr style=\"text-align: right;\">\n",
              "      <th></th>\n",
              "      <th>City</th>\n",
              "      <th>Edition</th>\n",
              "      <th>Sport</th>\n",
              "      <th>Discipline</th>\n",
              "      <th>Athlete</th>\n",
              "      <th>NOC</th>\n",
              "      <th>Gender</th>\n",
              "      <th>Event</th>\n",
              "      <th>Event_gender</th>\n",
              "      <th>Medal</th>\n",
              "    </tr>\n",
              "  </thead>\n",
              "  <tbody>\n",
              "    <tr>\n",
              "      <th>7</th>\n",
              "      <td>Athens</td>\n",
              "      <td>1896</td>\n",
              "      <td>Aquatics</td>\n",
              "      <td>Swimming</td>\n",
              "      <td>ANDREOU, Joannis</td>\n",
              "      <td>GRE</td>\n",
              "      <td>Men</td>\n",
              "      <td>1200m freestyle</td>\n",
              "      <td>M</td>\n",
              "      <td>Silver</td>\n",
              "    </tr>\n",
              "    <tr>\n",
              "      <th>82</th>\n",
              "      <td>Athens</td>\n",
              "      <td>1896</td>\n",
              "      <td>Gymnastics</td>\n",
              "      <td>Artistic G.</td>\n",
              "      <td>ANDRIAKOPOULOS, Nicolaos</td>\n",
              "      <td>GRE</td>\n",
              "      <td>Men</td>\n",
              "      <td>rope climbing</td>\n",
              "      <td>M</td>\n",
              "      <td>Gold</td>\n",
              "    </tr>\n",
              "    <tr>\n",
              "      <th>110</th>\n",
              "      <td>Athens</td>\n",
              "      <td>1896</td>\n",
              "      <td>Gymnastics</td>\n",
              "      <td>Artistic G.</td>\n",
              "      <td>ANDRIAKOPOULOS, Nicolaos</td>\n",
              "      <td>GRE</td>\n",
              "      <td>Men</td>\n",
              "      <td>team, parallel bars</td>\n",
              "      <td>M</td>\n",
              "      <td>Silver</td>\n",
              "    </tr>\n",
              "    <tr>\n",
              "      <th>111</th>\n",
              "      <td>Athens</td>\n",
              "      <td>1896</td>\n",
              "      <td>Gymnastics</td>\n",
              "      <td>Artistic G.</td>\n",
              "      <td>ATHANASOPOULOS, Spyros</td>\n",
              "      <td>GRE</td>\n",
              "      <td>Men</td>\n",
              "      <td>team, parallel bars</td>\n",
              "      <td>M</td>\n",
              "      <td>Silver</td>\n",
              "    </tr>\n",
              "    <tr>\n",
              "      <th>48</th>\n",
              "      <td>Athens</td>\n",
              "      <td>1896</td>\n",
              "      <td>Cycling</td>\n",
              "      <td>Cycling Road</td>\n",
              "      <td>BATTEL, Edward</td>\n",
              "      <td>GBR</td>\n",
              "      <td>Men</td>\n",
              "      <td>individual road race</td>\n",
              "      <td>M</td>\n",
              "      <td>Bronze</td>\n",
              "    </tr>\n",
              "    <tr>\n",
              "      <th>...</th>\n",
              "      <td>...</td>\n",
              "      <td>...</td>\n",
              "      <td>...</td>\n",
              "      <td>...</td>\n",
              "      <td>...</td>\n",
              "      <td>...</td>\n",
              "      <td>...</td>\n",
              "      <td>...</td>\n",
              "      <td>...</td>\n",
              "      <td>...</td>\n",
              "    </tr>\n",
              "    <tr>\n",
              "      <th>28095</th>\n",
              "      <td>Beijing</td>\n",
              "      <td>2008</td>\n",
              "      <td>Equestrian</td>\n",
              "      <td>Dressage</td>\n",
              "      <td>ZU-SAYN WITTGENSTEIN, Nathalie</td>\n",
              "      <td>DEN</td>\n",
              "      <td>Women</td>\n",
              "      <td>team</td>\n",
              "      <td>X</td>\n",
              "      <td>Bronze</td>\n",
              "    </tr>\n",
              "    <tr>\n",
              "      <th>28819</th>\n",
              "      <td>Beijing</td>\n",
              "      <td>2008</td>\n",
              "      <td>Sailing</td>\n",
              "      <td>Sailing</td>\n",
              "      <td>ZUBARI, Shahar</td>\n",
              "      <td>ISR</td>\n",
              "      <td>Men</td>\n",
              "      <td>RS:X - Windsurfer</td>\n",
              "      <td>M</td>\n",
              "      <td>Bronze</td>\n",
              "    </tr>\n",
              "    <tr>\n",
              "      <th>28977</th>\n",
              "      <td>Beijing</td>\n",
              "      <td>2008</td>\n",
              "      <td>Taekwondo</td>\n",
              "      <td>Taekwondo</td>\n",
              "      <td>ZUBCIC, Martina</td>\n",
              "      <td>CRO</td>\n",
              "      <td>Women</td>\n",
              "      <td>49 - 57 kg</td>\n",
              "      <td>W</td>\n",
              "      <td>Bronze</td>\n",
              "    </tr>\n",
              "    <tr>\n",
              "      <th>28387</th>\n",
              "      <td>Beijing</td>\n",
              "      <td>2008</td>\n",
              "      <td>Gymnastics</td>\n",
              "      <td>Rhythmic G.</td>\n",
              "      <td>ZUEVA, Natalia</td>\n",
              "      <td>RUS</td>\n",
              "      <td>Women</td>\n",
              "      <td>group competition</td>\n",
              "      <td>W</td>\n",
              "      <td>Gold</td>\n",
              "    </tr>\n",
              "    <tr>\n",
              "      <th>29007</th>\n",
              "      <td>Beijing</td>\n",
              "      <td>2008</td>\n",
              "      <td>Tennis</td>\n",
              "      <td>Tennis</td>\n",
              "      <td>ZVONAREVA, Vera</td>\n",
              "      <td>RUS</td>\n",
              "      <td>Women</td>\n",
              "      <td>singles</td>\n",
              "      <td>W</td>\n",
              "      <td>Bronze</td>\n",
              "    </tr>\n",
              "  </tbody>\n",
              "</table>\n",
              "<p>29216 rows × 10 columns</p>\n",
              "</div>"
            ],
            "text/plain": [
              "          City  Edition       Sport  ...                 Event Event_gender   Medal\n",
              "7       Athens     1896    Aquatics  ...       1200m freestyle            M  Silver\n",
              "82      Athens     1896  Gymnastics  ...         rope climbing            M    Gold\n",
              "110     Athens     1896  Gymnastics  ...   team, parallel bars            M  Silver\n",
              "111     Athens     1896  Gymnastics  ...   team, parallel bars            M  Silver\n",
              "48      Athens     1896     Cycling  ...  individual road race            M  Bronze\n",
              "...        ...      ...         ...  ...                   ...          ...     ...\n",
              "28095  Beijing     2008  Equestrian  ...                  team            X  Bronze\n",
              "28819  Beijing     2008     Sailing  ...     RS:X - Windsurfer            M  Bronze\n",
              "28977  Beijing     2008   Taekwondo  ...            49 - 57 kg            W  Bronze\n",
              "28387  Beijing     2008  Gymnastics  ...     group competition            W    Gold\n",
              "29007  Beijing     2008      Tennis  ...               singles            W  Bronze\n",
              "\n",
              "[29216 rows x 10 columns]"
            ]
          },
          "metadata": {},
          "execution_count": 242
        }
      ]
    },
    {
      "cell_type": "markdown",
      "metadata": {
        "id": "TJ1G_aHldvN7"
      },
      "source": [
        "## Boolean indexing"
      ]
    },
    {
      "cell_type": "code",
      "metadata": {
        "colab": {
          "base_uri": "https://localhost:8080/",
          "height": 111
        },
        "id": "xaHdUVvHdyG8",
        "outputId": "6886a359-97e7-4c09-9376-4848148cc800"
      },
      "source": [
        "oo.head(2)"
      ],
      "execution_count": null,
      "outputs": [
        {
          "output_type": "execute_result",
          "data": {
            "text/html": [
              "<div>\n",
              "<style scoped>\n",
              "    .dataframe tbody tr th:only-of-type {\n",
              "        vertical-align: middle;\n",
              "    }\n",
              "\n",
              "    .dataframe tbody tr th {\n",
              "        vertical-align: top;\n",
              "    }\n",
              "\n",
              "    .dataframe thead th {\n",
              "        text-align: right;\n",
              "    }\n",
              "</style>\n",
              "<table border=\"1\" class=\"dataframe\">\n",
              "  <thead>\n",
              "    <tr style=\"text-align: right;\">\n",
              "      <th></th>\n",
              "      <th>City</th>\n",
              "      <th>Edition</th>\n",
              "      <th>Sport</th>\n",
              "      <th>Discipline</th>\n",
              "      <th>Athlete</th>\n",
              "      <th>NOC</th>\n",
              "      <th>Gender</th>\n",
              "      <th>Event</th>\n",
              "      <th>Event_gender</th>\n",
              "      <th>Medal</th>\n",
              "    </tr>\n",
              "  </thead>\n",
              "  <tbody>\n",
              "    <tr>\n",
              "      <th>0</th>\n",
              "      <td>Athens</td>\n",
              "      <td>1896</td>\n",
              "      <td>Aquatics</td>\n",
              "      <td>Swimming</td>\n",
              "      <td>HAJOS, Alfred</td>\n",
              "      <td>HUN</td>\n",
              "      <td>Men</td>\n",
              "      <td>100m freestyle</td>\n",
              "      <td>M</td>\n",
              "      <td>Gold</td>\n",
              "    </tr>\n",
              "    <tr>\n",
              "      <th>1</th>\n",
              "      <td>Athens</td>\n",
              "      <td>1896</td>\n",
              "      <td>Aquatics</td>\n",
              "      <td>Swimming</td>\n",
              "      <td>HERSCHMANN, Otto</td>\n",
              "      <td>AUT</td>\n",
              "      <td>Men</td>\n",
              "      <td>100m freestyle</td>\n",
              "      <td>M</td>\n",
              "      <td>Silver</td>\n",
              "    </tr>\n",
              "  </tbody>\n",
              "</table>\n",
              "</div>"
            ],
            "text/plain": [
              "     City  Edition     Sport  ...           Event Event_gender   Medal\n",
              "0  Athens     1896  Aquatics  ...  100m freestyle            M    Gold\n",
              "1  Athens     1896  Aquatics  ...  100m freestyle            M  Silver\n",
              "\n",
              "[2 rows x 10 columns]"
            ]
          },
          "metadata": {},
          "execution_count": 243
        }
      ]
    },
    {
      "cell_type": "code",
      "metadata": {
        "colab": {
          "base_uri": "https://localhost:8080/"
        },
        "id": "-no96VBFd8Em",
        "outputId": "958691a4-5ebb-44c5-bc9e-edf7880f1c67"
      },
      "source": [
        "oo.Medal == \"Gold\" # We get a whole series of trues or falses"
      ],
      "execution_count": null,
      "outputs": [
        {
          "output_type": "execute_result",
          "data": {
            "text/plain": [
              "0         True\n",
              "1        False\n",
              "2        False\n",
              "3         True\n",
              "4        False\n",
              "         ...  \n",
              "29211    False\n",
              "29212    False\n",
              "29213    False\n",
              "29214     True\n",
              "29215    False\n",
              "Name: Medal, Length: 29216, dtype: bool"
            ]
          },
          "metadata": {},
          "execution_count": 244
        }
      ]
    },
    {
      "cell_type": "code",
      "metadata": {
        "colab": {
          "base_uri": "https://localhost:8080/",
          "height": 419
        },
        "id": "0BZxd1EEeAmm",
        "outputId": "2119790d-db22-4286-e43e-acd45a4c72f3"
      },
      "source": [
        "# wow pretty cool. The parentheses are required for order of ops\n",
        "oo[(oo.Medal == \"Gold\") & (oo.Gender == \"Women\")] "
      ],
      "execution_count": null,
      "outputs": [
        {
          "output_type": "execute_result",
          "data": {
            "text/html": [
              "<div>\n",
              "<style scoped>\n",
              "    .dataframe tbody tr th:only-of-type {\n",
              "        vertical-align: middle;\n",
              "    }\n",
              "\n",
              "    .dataframe tbody tr th {\n",
              "        vertical-align: top;\n",
              "    }\n",
              "\n",
              "    .dataframe thead th {\n",
              "        text-align: right;\n",
              "    }\n",
              "</style>\n",
              "<table border=\"1\" class=\"dataframe\">\n",
              "  <thead>\n",
              "    <tr style=\"text-align: right;\">\n",
              "      <th></th>\n",
              "      <th>City</th>\n",
              "      <th>Edition</th>\n",
              "      <th>Sport</th>\n",
              "      <th>Discipline</th>\n",
              "      <th>Athlete</th>\n",
              "      <th>NOC</th>\n",
              "      <th>Gender</th>\n",
              "      <th>Event</th>\n",
              "      <th>Event_gender</th>\n",
              "      <th>Medal</th>\n",
              "    </tr>\n",
              "  </thead>\n",
              "  <tbody>\n",
              "    <tr>\n",
              "      <th>417</th>\n",
              "      <td>Paris</td>\n",
              "      <td>1900</td>\n",
              "      <td>Golf</td>\n",
              "      <td>Golf</td>\n",
              "      <td>ABBOTT, Margaret Ives</td>\n",
              "      <td>USA</td>\n",
              "      <td>Women</td>\n",
              "      <td>individual</td>\n",
              "      <td>W</td>\n",
              "      <td>Gold</td>\n",
              "    </tr>\n",
              "    <tr>\n",
              "      <th>641</th>\n",
              "      <td>Paris</td>\n",
              "      <td>1900</td>\n",
              "      <td>Tennis</td>\n",
              "      <td>Tennis</td>\n",
              "      <td>COOPER, Charlotte</td>\n",
              "      <td>GBR</td>\n",
              "      <td>Women</td>\n",
              "      <td>mixed doubles</td>\n",
              "      <td>X</td>\n",
              "      <td>Gold</td>\n",
              "    </tr>\n",
              "    <tr>\n",
              "      <th>649</th>\n",
              "      <td>Paris</td>\n",
              "      <td>1900</td>\n",
              "      <td>Tennis</td>\n",
              "      <td>Tennis</td>\n",
              "      <td>COOPER, Charlotte</td>\n",
              "      <td>GBR</td>\n",
              "      <td>Women</td>\n",
              "      <td>singles</td>\n",
              "      <td>W</td>\n",
              "      <td>Gold</td>\n",
              "    </tr>\n",
              "    <tr>\n",
              "      <th>710</th>\n",
              "      <td>St Louis</td>\n",
              "      <td>1904</td>\n",
              "      <td>Archery</td>\n",
              "      <td>Archery</td>\n",
              "      <td>HOWELL, Matilda Scott</td>\n",
              "      <td>USA</td>\n",
              "      <td>Women</td>\n",
              "      <td>double columbia round (50y - 40y - 30y)</td>\n",
              "      <td>W</td>\n",
              "      <td>Gold</td>\n",
              "    </tr>\n",
              "    <tr>\n",
              "      <th>713</th>\n",
              "      <td>St Louis</td>\n",
              "      <td>1904</td>\n",
              "      <td>Archery</td>\n",
              "      <td>Archery</td>\n",
              "      <td>HOWELL, Matilda Scott</td>\n",
              "      <td>USA</td>\n",
              "      <td>Women</td>\n",
              "      <td>double national round (60y - 50y)</td>\n",
              "      <td>W</td>\n",
              "      <td>Gold</td>\n",
              "    </tr>\n",
              "    <tr>\n",
              "      <th>...</th>\n",
              "      <td>...</td>\n",
              "      <td>...</td>\n",
              "      <td>...</td>\n",
              "      <td>...</td>\n",
              "      <td>...</td>\n",
              "      <td>...</td>\n",
              "      <td>...</td>\n",
              "      <td>...</td>\n",
              "      <td>...</td>\n",
              "      <td>...</td>\n",
              "    </tr>\n",
              "    <tr>\n",
              "      <th>29134</th>\n",
              "      <td>Beijing</td>\n",
              "      <td>2008</td>\n",
              "      <td>Weightlifting</td>\n",
              "      <td>Weightlifting</td>\n",
              "      <td>CAO, Lei</td>\n",
              "      <td>CHN</td>\n",
              "      <td>Women</td>\n",
              "      <td>75kg</td>\n",
              "      <td>W</td>\n",
              "      <td>Gold</td>\n",
              "    </tr>\n",
              "    <tr>\n",
              "      <th>29147</th>\n",
              "      <td>Beijing</td>\n",
              "      <td>2008</td>\n",
              "      <td>Wrestling</td>\n",
              "      <td>Wrestling Free.</td>\n",
              "      <td>HUYNH, Carol</td>\n",
              "      <td>CAN</td>\n",
              "      <td>Women</td>\n",
              "      <td>- 48kg</td>\n",
              "      <td>W</td>\n",
              "      <td>Gold</td>\n",
              "    </tr>\n",
              "    <tr>\n",
              "      <th>29155</th>\n",
              "      <td>Beijing</td>\n",
              "      <td>2008</td>\n",
              "      <td>Wrestling</td>\n",
              "      <td>Wrestling Free.</td>\n",
              "      <td>YOSHIDA, Saori</td>\n",
              "      <td>JPN</td>\n",
              "      <td>Women</td>\n",
              "      <td>48 - 55kg</td>\n",
              "      <td>W</td>\n",
              "      <td>Gold</td>\n",
              "    </tr>\n",
              "    <tr>\n",
              "      <th>29163</th>\n",
              "      <td>Beijing</td>\n",
              "      <td>2008</td>\n",
              "      <td>Wrestling</td>\n",
              "      <td>Wrestling Free.</td>\n",
              "      <td>ICHO, Kaori</td>\n",
              "      <td>JPN</td>\n",
              "      <td>Women</td>\n",
              "      <td>55 - 63kg</td>\n",
              "      <td>W</td>\n",
              "      <td>Gold</td>\n",
              "    </tr>\n",
              "    <tr>\n",
              "      <th>29171</th>\n",
              "      <td>Beijing</td>\n",
              "      <td>2008</td>\n",
              "      <td>Wrestling</td>\n",
              "      <td>Wrestling Free.</td>\n",
              "      <td>WANG, Jiao</td>\n",
              "      <td>CHN</td>\n",
              "      <td>Women</td>\n",
              "      <td>63 - 72kg</td>\n",
              "      <td>W</td>\n",
              "      <td>Gold</td>\n",
              "    </tr>\n",
              "  </tbody>\n",
              "</table>\n",
              "<p>2485 rows × 10 columns</p>\n",
              "</div>"
            ],
            "text/plain": [
              "           City  Edition  ... Event_gender Medal\n",
              "417       Paris     1900  ...            W  Gold\n",
              "641       Paris     1900  ...            X  Gold\n",
              "649       Paris     1900  ...            W  Gold\n",
              "710    St Louis     1904  ...            W  Gold\n",
              "713    St Louis     1904  ...            W  Gold\n",
              "...         ...      ...  ...          ...   ...\n",
              "29134   Beijing     2008  ...            W  Gold\n",
              "29147   Beijing     2008  ...            W  Gold\n",
              "29155   Beijing     2008  ...            W  Gold\n",
              "29163   Beijing     2008  ...            W  Gold\n",
              "29171   Beijing     2008  ...            W  Gold\n",
              "\n",
              "[2485 rows x 10 columns]"
            ]
          },
          "metadata": {},
          "execution_count": 245
        }
      ]
    },
    {
      "cell_type": "markdown",
      "metadata": {
        "id": "JuTbFJhLefmo"
      },
      "source": [
        "## String Handling"
      ]
    },
    {
      "cell_type": "code",
      "metadata": {
        "colab": {
          "base_uri": "https://localhost:8080/",
          "height": 390
        },
        "id": "lvFL-qHhehtR",
        "outputId": "d523a806-7cd9-43bb-c578-b2e411b28bbd"
      },
      "source": [
        "# Using the 'str' attribute lets you do some string based\n",
        "#   ops on the series\n",
        "oo[oo.Athlete.str.contains(\"Florence\")]"
      ],
      "execution_count": null,
      "outputs": [
        {
          "output_type": "execute_result",
          "data": {
            "text/html": [
              "<div>\n",
              "<style scoped>\n",
              "    .dataframe tbody tr th:only-of-type {\n",
              "        vertical-align: middle;\n",
              "    }\n",
              "\n",
              "    .dataframe tbody tr th {\n",
              "        vertical-align: top;\n",
              "    }\n",
              "\n",
              "    .dataframe thead th {\n",
              "        text-align: right;\n",
              "    }\n",
              "</style>\n",
              "<table border=\"1\" class=\"dataframe\">\n",
              "  <thead>\n",
              "    <tr style=\"text-align: right;\">\n",
              "      <th></th>\n",
              "      <th>City</th>\n",
              "      <th>Edition</th>\n",
              "      <th>Sport</th>\n",
              "      <th>Discipline</th>\n",
              "      <th>Athlete</th>\n",
              "      <th>NOC</th>\n",
              "      <th>Gender</th>\n",
              "      <th>Event</th>\n",
              "      <th>Event_gender</th>\n",
              "      <th>Medal</th>\n",
              "    </tr>\n",
              "  </thead>\n",
              "  <tbody>\n",
              "    <tr>\n",
              "      <th>1843</th>\n",
              "      <td>London</td>\n",
              "      <td>1908</td>\n",
              "      <td>Skating</td>\n",
              "      <td>Figure skating</td>\n",
              "      <td>SYERS, Florence</td>\n",
              "      <td>GBR</td>\n",
              "      <td>Women</td>\n",
              "      <td>individual</td>\n",
              "      <td>W</td>\n",
              "      <td>Gold</td>\n",
              "    </tr>\n",
              "    <tr>\n",
              "      <th>1848</th>\n",
              "      <td>London</td>\n",
              "      <td>1908</td>\n",
              "      <td>Skating</td>\n",
              "      <td>Figure skating</td>\n",
              "      <td>SYERS, Florence</td>\n",
              "      <td>GBR</td>\n",
              "      <td>Women</td>\n",
              "      <td>pairs</td>\n",
              "      <td>X</td>\n",
              "      <td>Bronze</td>\n",
              "    </tr>\n",
              "    <tr>\n",
              "      <th>4173</th>\n",
              "      <td>Paris</td>\n",
              "      <td>1924</td>\n",
              "      <td>Aquatics</td>\n",
              "      <td>Swimming</td>\n",
              "      <td>BARKER, Florence</td>\n",
              "      <td>GBR</td>\n",
              "      <td>Women</td>\n",
              "      <td>4x100m freestyle relay</td>\n",
              "      <td>W</td>\n",
              "      <td>Silver</td>\n",
              "    </tr>\n",
              "    <tr>\n",
              "      <th>8162</th>\n",
              "      <td>Helsinki</td>\n",
              "      <td>1952</td>\n",
              "      <td>Athletics</td>\n",
              "      <td>Athletics</td>\n",
              "      <td>FOULDS-PAUL, June Florence</td>\n",
              "      <td>GBR</td>\n",
              "      <td>Women</td>\n",
              "      <td>4x100m relay</td>\n",
              "      <td>W</td>\n",
              "      <td>Bronze</td>\n",
              "    </tr>\n",
              "    <tr>\n",
              "      <th>9060</th>\n",
              "      <td>Melbourne / Stockholm</td>\n",
              "      <td>1956</td>\n",
              "      <td>Athletics</td>\n",
              "      <td>Athletics</td>\n",
              "      <td>FOULDS-PAUL, June Florence</td>\n",
              "      <td>GBR</td>\n",
              "      <td>Women</td>\n",
              "      <td>4x100m relay</td>\n",
              "      <td>W</td>\n",
              "      <td>Silver</td>\n",
              "    </tr>\n",
              "    <tr>\n",
              "      <th>10849</th>\n",
              "      <td>Tokyo</td>\n",
              "      <td>1964</td>\n",
              "      <td>Athletics</td>\n",
              "      <td>Athletics</td>\n",
              "      <td>AMOORE-POLLOCK, Judith Florence</td>\n",
              "      <td>AUS</td>\n",
              "      <td>Women</td>\n",
              "      <td>400m</td>\n",
              "      <td>W</td>\n",
              "      <td>Bronze</td>\n",
              "    </tr>\n",
              "    <tr>\n",
              "      <th>16817</th>\n",
              "      <td>Los Angeles</td>\n",
              "      <td>1984</td>\n",
              "      <td>Athletics</td>\n",
              "      <td>Athletics</td>\n",
              "      <td>GRIFFITH-JOYNER, Florence</td>\n",
              "      <td>USA</td>\n",
              "      <td>Women</td>\n",
              "      <td>200m</td>\n",
              "      <td>W</td>\n",
              "      <td>Silver</td>\n",
              "    </tr>\n",
              "    <tr>\n",
              "      <th>18287</th>\n",
              "      <td>Seoul</td>\n",
              "      <td>1988</td>\n",
              "      <td>Athletics</td>\n",
              "      <td>Athletics</td>\n",
              "      <td>GRIFFITH-JOYNER, Florence</td>\n",
              "      <td>USA</td>\n",
              "      <td>Women</td>\n",
              "      <td>100m</td>\n",
              "      <td>W</td>\n",
              "      <td>Gold</td>\n",
              "    </tr>\n",
              "    <tr>\n",
              "      <th>18305</th>\n",
              "      <td>Seoul</td>\n",
              "      <td>1988</td>\n",
              "      <td>Athletics</td>\n",
              "      <td>Athletics</td>\n",
              "      <td>GRIFFITH-JOYNER, Florence</td>\n",
              "      <td>USA</td>\n",
              "      <td>Women</td>\n",
              "      <td>200m</td>\n",
              "      <td>W</td>\n",
              "      <td>Gold</td>\n",
              "    </tr>\n",
              "    <tr>\n",
              "      <th>18347</th>\n",
              "      <td>Seoul</td>\n",
              "      <td>1988</td>\n",
              "      <td>Athletics</td>\n",
              "      <td>Athletics</td>\n",
              "      <td>GRIFFITH-JOYNER, Florence</td>\n",
              "      <td>USA</td>\n",
              "      <td>Women</td>\n",
              "      <td>4x100m relay</td>\n",
              "      <td>W</td>\n",
              "      <td>Gold</td>\n",
              "    </tr>\n",
              "    <tr>\n",
              "      <th>18374</th>\n",
              "      <td>Seoul</td>\n",
              "      <td>1988</td>\n",
              "      <td>Athletics</td>\n",
              "      <td>Athletics</td>\n",
              "      <td>GRIFFITH-JOYNER, Florence</td>\n",
              "      <td>USA</td>\n",
              "      <td>Women</td>\n",
              "      <td>4x400m relay</td>\n",
              "      <td>W</td>\n",
              "      <td>Silver</td>\n",
              "    </tr>\n",
              "  </tbody>\n",
              "</table>\n",
              "</div>"
            ],
            "text/plain": [
              "                        City  Edition  ... Event_gender   Medal\n",
              "1843                  London     1908  ...            W    Gold\n",
              "1848                  London     1908  ...            X  Bronze\n",
              "4173                   Paris     1924  ...            W  Silver\n",
              "8162                Helsinki     1952  ...            W  Bronze\n",
              "9060   Melbourne / Stockholm     1956  ...            W  Silver\n",
              "10849                  Tokyo     1964  ...            W  Bronze\n",
              "16817            Los Angeles     1984  ...            W  Silver\n",
              "18287                  Seoul     1988  ...            W    Gold\n",
              "18305                  Seoul     1988  ...            W    Gold\n",
              "18347                  Seoul     1988  ...            W    Gold\n",
              "18374                  Seoul     1988  ...            W  Silver\n",
              "\n",
              "[11 rows x 10 columns]"
            ]
          },
          "metadata": {},
          "execution_count": 246
        }
      ]
    },
    {
      "cell_type": "markdown",
      "metadata": {
        "id": "Kum2OvcdfBth"
      },
      "source": [
        "# Basic Plotting"
      ]
    },
    {
      "cell_type": "code",
      "metadata": {
        "id": "HU9EBbQ0fDbz"
      },
      "source": [
        "import matplotlib.pyplot as plt\n",
        "%matplotlib inline"
      ],
      "execution_count": null,
      "outputs": []
    },
    {
      "cell_type": "code",
      "metadata": {
        "colab": {
          "base_uri": "https://localhost:8080/",
          "height": 204
        },
        "id": "orvqP83pfaDy",
        "outputId": "a70895ae-b39e-4dd8-e404-96b359d8bdfe"
      },
      "source": [
        "# What were the sports in the first olympics\n",
        "fo = oo[oo.Edition == 1896]\n",
        "fo.head()"
      ],
      "execution_count": null,
      "outputs": [
        {
          "output_type": "execute_result",
          "data": {
            "text/html": [
              "<div>\n",
              "<style scoped>\n",
              "    .dataframe tbody tr th:only-of-type {\n",
              "        vertical-align: middle;\n",
              "    }\n",
              "\n",
              "    .dataframe tbody tr th {\n",
              "        vertical-align: top;\n",
              "    }\n",
              "\n",
              "    .dataframe thead th {\n",
              "        text-align: right;\n",
              "    }\n",
              "</style>\n",
              "<table border=\"1\" class=\"dataframe\">\n",
              "  <thead>\n",
              "    <tr style=\"text-align: right;\">\n",
              "      <th></th>\n",
              "      <th>City</th>\n",
              "      <th>Edition</th>\n",
              "      <th>Sport</th>\n",
              "      <th>Discipline</th>\n",
              "      <th>Athlete</th>\n",
              "      <th>NOC</th>\n",
              "      <th>Gender</th>\n",
              "      <th>Event</th>\n",
              "      <th>Event_gender</th>\n",
              "      <th>Medal</th>\n",
              "    </tr>\n",
              "  </thead>\n",
              "  <tbody>\n",
              "    <tr>\n",
              "      <th>0</th>\n",
              "      <td>Athens</td>\n",
              "      <td>1896</td>\n",
              "      <td>Aquatics</td>\n",
              "      <td>Swimming</td>\n",
              "      <td>HAJOS, Alfred</td>\n",
              "      <td>HUN</td>\n",
              "      <td>Men</td>\n",
              "      <td>100m freestyle</td>\n",
              "      <td>M</td>\n",
              "      <td>Gold</td>\n",
              "    </tr>\n",
              "    <tr>\n",
              "      <th>1</th>\n",
              "      <td>Athens</td>\n",
              "      <td>1896</td>\n",
              "      <td>Aquatics</td>\n",
              "      <td>Swimming</td>\n",
              "      <td>HERSCHMANN, Otto</td>\n",
              "      <td>AUT</td>\n",
              "      <td>Men</td>\n",
              "      <td>100m freestyle</td>\n",
              "      <td>M</td>\n",
              "      <td>Silver</td>\n",
              "    </tr>\n",
              "    <tr>\n",
              "      <th>2</th>\n",
              "      <td>Athens</td>\n",
              "      <td>1896</td>\n",
              "      <td>Aquatics</td>\n",
              "      <td>Swimming</td>\n",
              "      <td>DRIVAS, Dimitrios</td>\n",
              "      <td>GRE</td>\n",
              "      <td>Men</td>\n",
              "      <td>100m freestyle for sailors</td>\n",
              "      <td>M</td>\n",
              "      <td>Bronze</td>\n",
              "    </tr>\n",
              "    <tr>\n",
              "      <th>3</th>\n",
              "      <td>Athens</td>\n",
              "      <td>1896</td>\n",
              "      <td>Aquatics</td>\n",
              "      <td>Swimming</td>\n",
              "      <td>MALOKINIS, Ioannis</td>\n",
              "      <td>GRE</td>\n",
              "      <td>Men</td>\n",
              "      <td>100m freestyle for sailors</td>\n",
              "      <td>M</td>\n",
              "      <td>Gold</td>\n",
              "    </tr>\n",
              "    <tr>\n",
              "      <th>4</th>\n",
              "      <td>Athens</td>\n",
              "      <td>1896</td>\n",
              "      <td>Aquatics</td>\n",
              "      <td>Swimming</td>\n",
              "      <td>CHASAPIS, Spiridon</td>\n",
              "      <td>GRE</td>\n",
              "      <td>Men</td>\n",
              "      <td>100m freestyle for sailors</td>\n",
              "      <td>M</td>\n",
              "      <td>Silver</td>\n",
              "    </tr>\n",
              "  </tbody>\n",
              "</table>\n",
              "</div>"
            ],
            "text/plain": [
              "     City  Edition     Sport  ...                       Event Event_gender   Medal\n",
              "0  Athens     1896  Aquatics  ...              100m freestyle            M    Gold\n",
              "1  Athens     1896  Aquatics  ...              100m freestyle            M  Silver\n",
              "2  Athens     1896  Aquatics  ...  100m freestyle for sailors            M  Bronze\n",
              "3  Athens     1896  Aquatics  ...  100m freestyle for sailors            M    Gold\n",
              "4  Athens     1896  Aquatics  ...  100m freestyle for sailors            M  Silver\n",
              "\n",
              "[5 rows x 10 columns]"
            ]
          },
          "metadata": {},
          "execution_count": 248
        }
      ]
    },
    {
      "cell_type": "markdown",
      "metadata": {
        "id": "DR95gnTcgp6f"
      },
      "source": [
        "## Plot Types"
      ]
    },
    {
      "cell_type": "code",
      "metadata": {
        "colab": {
          "base_uri": "https://localhost:8080/",
          "height": 452
        },
        "id": "QxQiwcoigPG_",
        "outputId": "9a125778-3f07-4261-a593-4a79b3962eb5"
      },
      "source": [
        "print(fo.Sport.value_counts())\n",
        "fo.Sport.value_counts().plot(kind=\"line\")"
      ],
      "execution_count": null,
      "outputs": [
        {
          "output_type": "stream",
          "name": "stdout",
          "text": [
            "Gymnastics       45\n",
            "Athletics        37\n",
            "Cycling          16\n",
            "Shooting         15\n",
            "Aquatics         11\n",
            "Tennis           10\n",
            "Fencing           8\n",
            "Weightlifting     6\n",
            "Wrestling         3\n",
            "Name: Sport, dtype: int64\n"
          ]
        },
        {
          "output_type": "execute_result",
          "data": {
            "text/plain": [
              "<matplotlib.axes._subplots.AxesSubplot at 0x7f8a286cb9d0>"
            ]
          },
          "metadata": {},
          "execution_count": 249
        },
        {
          "output_type": "display_data",
          "data": {
            "image/png": "[encoded data removed]",
            "text/plain": [
              "<Figure size 432x288 with 1 Axes>"
            ]
          },
          "metadata": {
            "needs_background": "light"
          }
        }
      ]
    },
    {
      "cell_type": "code",
      "metadata": {
        "colab": {
          "base_uri": "https://localhost:8080/",
          "height": 319
        },
        "id": "bTKuN76qgZQC",
        "outputId": "883a179f-e048-437a-a248-20c978f97b00"
      },
      "source": [
        "fo.Sport.value_counts().plot(kind=\"bar\"); # Can suppress the kernel printing a buncha extraneous bullshit with ';'"
      ],
      "execution_count": null,
      "outputs": [
        {
          "output_type": "display_data",
          "data": {
            "image/png": "[encoded data removed]",
            "text/plain": [
              "<Figure size 432x288 with 1 Axes>"
            ]
          },
          "metadata": {
            "needs_background": "light"
          }
        }
      ]
    },
    {
      "cell_type": "code",
      "metadata": {
        "colab": {
          "base_uri": "https://localhost:8080/",
          "height": 265
        },
        "id": "kJfAdnY-gjS-",
        "outputId": "9e9e4a5c-7822-454d-c567-652c661f2eb2"
      },
      "source": [
        "fo.Sport.value_counts().plot(kind=\"barh\");"
      ],
      "execution_count": null,
      "outputs": [
        {
          "output_type": "display_data",
          "data": {
            "image/png": "[encoded data removed]",
            "text/plain": [
              "<Figure size 432x288 with 1 Axes>"
            ]
          },
          "metadata": {
            "needs_background": "light"
          }
        }
      ]
    },
    {
      "cell_type": "code",
      "metadata": {
        "colab": {
          "base_uri": "https://localhost:8080/",
          "height": 248
        },
        "id": "CUT2Q09sgsJG",
        "outputId": "605ec007-4208-46f7-b4cb-e2111f9f28a2"
      },
      "source": [
        "fo.Sport.value_counts().plot(kind=\"pie\");"
      ],
      "execution_count": null,
      "outputs": [
        {
          "output_type": "display_data",
          "data": {
            "image/png": "[encoded data removed]",
            "text/plain": [
              "<Figure size 432x288 with 1 Axes>"
            ]
          },
          "metadata": {}
        }
      ]
    },
    {
      "cell_type": "markdown",
      "metadata": {
        "id": "O0VeNFuGg1HC"
      },
      "source": [
        "## Figure Size"
      ]
    },
    {
      "cell_type": "code",
      "metadata": {
        "colab": {
          "base_uri": "https://localhost:8080/",
          "height": 211
        },
        "id": "w1LvWiAkg3Bo",
        "outputId": "7d067a43-733b-4c12-8e19-3a0833a66702"
      },
      "source": [
        "fo.Sport.value_counts().plot(kind=\"line\", figsize=(10,3));"
      ],
      "execution_count": null,
      "outputs": [
        {
          "output_type": "display_data",
          "data": {
            "image/png": "[encoded data removed]",
            "text/plain": [
              "<Figure size 720x216 with 1 Axes>"
            ]
          },
          "metadata": {
            "needs_background": "light"
          }
        }
      ]
    },
    {
      "cell_type": "markdown",
      "metadata": {
        "id": "J8kdsYLThOO0"
      },
      "source": [
        "## Color Maps"
      ]
    },
    {
      "cell_type": "code",
      "metadata": {
        "colab": {
          "base_uri": "https://localhost:8080/",
          "height": 248
        },
        "id": "E47rgUMshPxm",
        "outputId": "900c84cc-1920-4d14-afe9-bfa51d9c161d"
      },
      "source": [
        "fo.Sport.value_counts().plot(kind=\"pie\", colormap=\"Pastel1\");"
      ],
      "execution_count": null,
      "outputs": [
        {
          "output_type": "display_data",
          "data": {
            "image/png": "[encoded data removed]",
            "text/plain": [
              "<Figure size 432x288 with 1 Axes>"
            ]
          },
          "metadata": {}
        }
      ]
    },
    {
      "cell_type": "markdown",
      "metadata": {
        "id": "lhLmESz_hk-m"
      },
      "source": [
        "## Seaborn\n",
        "\n",
        "Is a compliment not a substitute of Matplotlib\n",
        "\n",
        "Matplotlib great for simple plots\n",
        "\n",
        "Seaborn great for complex plots (Specifically statistical shit)"
      ]
    },
    {
      "cell_type": "code",
      "metadata": {
        "id": "zqd2IHZRhmFW"
      },
      "source": [
        "import seaborn as sns"
      ],
      "execution_count": null,
      "outputs": []
    },
    {
      "cell_type": "code",
      "metadata": {
        "id": "qaruM1QRiHQb"
      },
      "source": [
        "# How many medals have been won by men and women in the history of the olympics"
      ],
      "execution_count": null,
      "outputs": []
    },
    {
      "cell_type": "code",
      "metadata": {
        "colab": {
          "base_uri": "https://localhost:8080/",
          "height": 279
        },
        "id": "tLVzitFHiKzE",
        "outputId": "3153cd7a-e0b1-41d2-ec77-11456bd28505"
      },
      "source": [
        "sns.countplot(x=\"Medal\", data=oo); # Lol boring though!"
      ],
      "execution_count": null,
      "outputs": [
        {
          "output_type": "display_data",
          "data": {
            "image/png": "[encoded data removed]",
            "text/plain": [
              "<Figure size 432x288 with 1 Axes>"
            ]
          },
          "metadata": {
            "needs_background": "light"
          }
        }
      ]
    },
    {
      "cell_type": "code",
      "metadata": {
        "colab": {
          "base_uri": "https://localhost:8080/",
          "height": 279
        },
        "id": "5D7xAOiKiVzN",
        "outputId": "03a5ce57-239d-4bc2-f74c-ac82bf743e2e"
      },
      "source": [
        "# Specifying hue basically turns this into categorical graphing\n",
        "sns.countplot(x=\"Medal\", data=oo, hue=\"Gender\");"
      ],
      "execution_count": null,
      "outputs": [
        {
          "output_type": "display_data",
          "data": {
            "image/png": "[encoded data removed]",
            "text/plain": [
              "<Figure size 432x288 with 1 Axes>"
            ]
          },
          "metadata": {
            "needs_background": "light"
          }
        }
      ]
    },
    {
      "cell_type": "markdown",
      "metadata": {
        "id": "ATM8DG5JiilU"
      },
      "source": [
        "# Indexing\n",
        "\n",
        "Indexing allows you to access a row or column using a label."
      ]
    },
    {
      "cell_type": "code",
      "metadata": {
        "colab": {
          "base_uri": "https://localhost:8080/"
        },
        "id": "X49bNdONijvh",
        "outputId": "62584c53-dd10-43af-a152-7be45334e324"
      },
      "source": [
        "# It has its own type, its not a series or a dataframe\n",
        "type(oo.index)"
      ],
      "execution_count": null,
      "outputs": [
        {
          "output_type": "execute_result",
          "data": {
            "text/plain": [
              "pandas.core.indexes.range.RangeIndex"
            ]
          },
          "metadata": {},
          "execution_count": 259
        }
      ]
    },
    {
      "cell_type": "code",
      "metadata": {
        "colab": {
          "base_uri": "https://localhost:8080/"
        },
        "id": "2VFmxQ-Lix-l",
        "outputId": "6c731977-fe25-4d7a-c98c-39331e8f245f"
      },
      "source": [
        "oo.index[100] # Returns the 100'th elementb"
      ],
      "execution_count": null,
      "outputs": [
        {
          "output_type": "execute_result",
          "data": {
            "text/plain": [
              "100"
            ]
          },
          "metadata": {},
          "execution_count": 260
        }
      ]
    },
    {
      "cell_type": "code",
      "metadata": {
        "id": "Av300YIvi2Bz"
      },
      "source": [
        "# They are immutable\n",
        "# oo.index[100] = 5  # This would error"
      ],
      "execution_count": null,
      "outputs": []
    },
    {
      "cell_type": "markdown",
      "metadata": {
        "id": "2IXSX2t9i9sF"
      },
      "source": [
        "## set_index()\n",
        "Determines which column is going to be the index for the series"
      ]
    },
    {
      "cell_type": "code",
      "metadata": {
        "colab": {
          "base_uri": "https://localhost:8080/",
          "height": 142
        },
        "id": "Lo_F-8iRjBDv",
        "outputId": "1613ae83-446b-442c-a4b6-ecee2c48f759"
      },
      "source": [
        "# we can see that the index is nothing, its like its own series\n",
        "oo.head(3)"
      ],
      "execution_count": null,
      "outputs": [
        {
          "output_type": "execute_result",
          "data": {
            "text/html": [
              "<div>\n",
              "<style scoped>\n",
              "    .dataframe tbody tr th:only-of-type {\n",
              "        vertical-align: middle;\n",
              "    }\n",
              "\n",
              "    .dataframe tbody tr th {\n",
              "        vertical-align: top;\n",
              "    }\n",
              "\n",
              "    .dataframe thead th {\n",
              "        text-align: right;\n",
              "    }\n",
              "</style>\n",
              "<table border=\"1\" class=\"dataframe\">\n",
              "  <thead>\n",
              "    <tr style=\"text-align: right;\">\n",
              "      <th></th>\n",
              "      <th>City</th>\n",
              "      <th>Edition</th>\n",
              "      <th>Sport</th>\n",
              "      <th>Discipline</th>\n",
              "      <th>Athlete</th>\n",
              "      <th>NOC</th>\n",
              "      <th>Gender</th>\n",
              "      <th>Event</th>\n",
              "      <th>Event_gender</th>\n",
              "      <th>Medal</th>\n",
              "    </tr>\n",
              "  </thead>\n",
              "  <tbody>\n",
              "    <tr>\n",
              "      <th>0</th>\n",
              "      <td>Athens</td>\n",
              "      <td>1896</td>\n",
              "      <td>Aquatics</td>\n",
              "      <td>Swimming</td>\n",
              "      <td>HAJOS, Alfred</td>\n",
              "      <td>HUN</td>\n",
              "      <td>Men</td>\n",
              "      <td>100m freestyle</td>\n",
              "      <td>M</td>\n",
              "      <td>Gold</td>\n",
              "    </tr>\n",
              "    <tr>\n",
              "      <th>1</th>\n",
              "      <td>Athens</td>\n",
              "      <td>1896</td>\n",
              "      <td>Aquatics</td>\n",
              "      <td>Swimming</td>\n",
              "      <td>HERSCHMANN, Otto</td>\n",
              "      <td>AUT</td>\n",
              "      <td>Men</td>\n",
              "      <td>100m freestyle</td>\n",
              "      <td>M</td>\n",
              "      <td>Silver</td>\n",
              "    </tr>\n",
              "    <tr>\n",
              "      <th>2</th>\n",
              "      <td>Athens</td>\n",
              "      <td>1896</td>\n",
              "      <td>Aquatics</td>\n",
              "      <td>Swimming</td>\n",
              "      <td>DRIVAS, Dimitrios</td>\n",
              "      <td>GRE</td>\n",
              "      <td>Men</td>\n",
              "      <td>100m freestyle for sailors</td>\n",
              "      <td>M</td>\n",
              "      <td>Bronze</td>\n",
              "    </tr>\n",
              "  </tbody>\n",
              "</table>\n",
              "</div>"
            ],
            "text/plain": [
              "     City  Edition     Sport  ...                       Event Event_gender   Medal\n",
              "0  Athens     1896  Aquatics  ...              100m freestyle            M    Gold\n",
              "1  Athens     1896  Aquatics  ...              100m freestyle            M  Silver\n",
              "2  Athens     1896  Aquatics  ...  100m freestyle for sailors            M  Bronze\n",
              "\n",
              "[3 rows x 10 columns]"
            ]
          },
          "metadata": {},
          "execution_count": 262
        }
      ]
    },
    {
      "cell_type": "code",
      "metadata": {
        "colab": {
          "base_uri": "https://localhost:8080/",
          "height": 173
        },
        "id": "B8mStV3Gi69V",
        "outputId": "b8c8443e-04b1-4ddc-e100-6ed94d721bb0"
      },
      "source": [
        "# We'll change our index to the Athlete series, and do it in place\n",
        "oo.set_index(\"Athlete\", inplace=True)\n",
        "oo.head(3)"
      ],
      "execution_count": null,
      "outputs": [
        {
          "output_type": "execute_result",
          "data": {
            "text/html": [
              "<div>\n",
              "<style scoped>\n",
              "    .dataframe tbody tr th:only-of-type {\n",
              "        vertical-align: middle;\n",
              "    }\n",
              "\n",
              "    .dataframe tbody tr th {\n",
              "        vertical-align: top;\n",
              "    }\n",
              "\n",
              "    .dataframe thead th {\n",
              "        text-align: right;\n",
              "    }\n",
              "</style>\n",
              "<table border=\"1\" class=\"dataframe\">\n",
              "  <thead>\n",
              "    <tr style=\"text-align: right;\">\n",
              "      <th></th>\n",
              "      <th>City</th>\n",
              "      <th>Edition</th>\n",
              "      <th>Sport</th>\n",
              "      <th>Discipline</th>\n",
              "      <th>NOC</th>\n",
              "      <th>Gender</th>\n",
              "      <th>Event</th>\n",
              "      <th>Event_gender</th>\n",
              "      <th>Medal</th>\n",
              "    </tr>\n",
              "    <tr>\n",
              "      <th>Athlete</th>\n",
              "      <th></th>\n",
              "      <th></th>\n",
              "      <th></th>\n",
              "      <th></th>\n",
              "      <th></th>\n",
              "      <th></th>\n",
              "      <th></th>\n",
              "      <th></th>\n",
              "      <th></th>\n",
              "    </tr>\n",
              "  </thead>\n",
              "  <tbody>\n",
              "    <tr>\n",
              "      <th>HAJOS, Alfred</th>\n",
              "      <td>Athens</td>\n",
              "      <td>1896</td>\n",
              "      <td>Aquatics</td>\n",
              "      <td>Swimming</td>\n",
              "      <td>HUN</td>\n",
              "      <td>Men</td>\n",
              "      <td>100m freestyle</td>\n",
              "      <td>M</td>\n",
              "      <td>Gold</td>\n",
              "    </tr>\n",
              "    <tr>\n",
              "      <th>HERSCHMANN, Otto</th>\n",
              "      <td>Athens</td>\n",
              "      <td>1896</td>\n",
              "      <td>Aquatics</td>\n",
              "      <td>Swimming</td>\n",
              "      <td>AUT</td>\n",
              "      <td>Men</td>\n",
              "      <td>100m freestyle</td>\n",
              "      <td>M</td>\n",
              "      <td>Silver</td>\n",
              "    </tr>\n",
              "    <tr>\n",
              "      <th>DRIVAS, Dimitrios</th>\n",
              "      <td>Athens</td>\n",
              "      <td>1896</td>\n",
              "      <td>Aquatics</td>\n",
              "      <td>Swimming</td>\n",
              "      <td>GRE</td>\n",
              "      <td>Men</td>\n",
              "      <td>100m freestyle for sailors</td>\n",
              "      <td>M</td>\n",
              "      <td>Bronze</td>\n",
              "    </tr>\n",
              "  </tbody>\n",
              "</table>\n",
              "</div>"
            ],
            "text/plain": [
              "                     City  Edition  ... Event_gender   Medal\n",
              "Athlete                             ...                     \n",
              "HAJOS, Alfred      Athens     1896  ...            M    Gold\n",
              "HERSCHMANN, Otto   Athens     1896  ...            M  Silver\n",
              "DRIVAS, Dimitrios  Athens     1896  ...            M  Bronze\n",
              "\n",
              "[3 rows x 9 columns]"
            ]
          },
          "metadata": {},
          "execution_count": 263
        }
      ]
    },
    {
      "cell_type": "code",
      "metadata": {
        "colab": {
          "base_uri": "https://localhost:8080/",
          "height": 142
        },
        "id": "1abWHfeujdNc",
        "outputId": "32e5af2e-e035-4722-b091-bad743a4f254"
      },
      "source": [
        "# We'll reset the index, and we see its back to normal\n",
        "oo.reset_index(inplace=True)\n",
        "oo.head(3)"
      ],
      "execution_count": null,
      "outputs": [
        {
          "output_type": "execute_result",
          "data": {
            "text/html": [
              "<div>\n",
              "<style scoped>\n",
              "    .dataframe tbody tr th:only-of-type {\n",
              "        vertical-align: middle;\n",
              "    }\n",
              "\n",
              "    .dataframe tbody tr th {\n",
              "        vertical-align: top;\n",
              "    }\n",
              "\n",
              "    .dataframe thead th {\n",
              "        text-align: right;\n",
              "    }\n",
              "</style>\n",
              "<table border=\"1\" class=\"dataframe\">\n",
              "  <thead>\n",
              "    <tr style=\"text-align: right;\">\n",
              "      <th></th>\n",
              "      <th>Athlete</th>\n",
              "      <th>City</th>\n",
              "      <th>Edition</th>\n",
              "      <th>Sport</th>\n",
              "      <th>Discipline</th>\n",
              "      <th>NOC</th>\n",
              "      <th>Gender</th>\n",
              "      <th>Event</th>\n",
              "      <th>Event_gender</th>\n",
              "      <th>Medal</th>\n",
              "    </tr>\n",
              "  </thead>\n",
              "  <tbody>\n",
              "    <tr>\n",
              "      <th>0</th>\n",
              "      <td>HAJOS, Alfred</td>\n",
              "      <td>Athens</td>\n",
              "      <td>1896</td>\n",
              "      <td>Aquatics</td>\n",
              "      <td>Swimming</td>\n",
              "      <td>HUN</td>\n",
              "      <td>Men</td>\n",
              "      <td>100m freestyle</td>\n",
              "      <td>M</td>\n",
              "      <td>Gold</td>\n",
              "    </tr>\n",
              "    <tr>\n",
              "      <th>1</th>\n",
              "      <td>HERSCHMANN, Otto</td>\n",
              "      <td>Athens</td>\n",
              "      <td>1896</td>\n",
              "      <td>Aquatics</td>\n",
              "      <td>Swimming</td>\n",
              "      <td>AUT</td>\n",
              "      <td>Men</td>\n",
              "      <td>100m freestyle</td>\n",
              "      <td>M</td>\n",
              "      <td>Silver</td>\n",
              "    </tr>\n",
              "    <tr>\n",
              "      <th>2</th>\n",
              "      <td>DRIVAS, Dimitrios</td>\n",
              "      <td>Athens</td>\n",
              "      <td>1896</td>\n",
              "      <td>Aquatics</td>\n",
              "      <td>Swimming</td>\n",
              "      <td>GRE</td>\n",
              "      <td>Men</td>\n",
              "      <td>100m freestyle for sailors</td>\n",
              "      <td>M</td>\n",
              "      <td>Bronze</td>\n",
              "    </tr>\n",
              "  </tbody>\n",
              "</table>\n",
              "</div>"
            ],
            "text/plain": [
              "             Athlete    City  ...  Event_gender   Medal\n",
              "0      HAJOS, Alfred  Athens  ...             M    Gold\n",
              "1   HERSCHMANN, Otto  Athens  ...             M  Silver\n",
              "2  DRIVAS, Dimitrios  Athens  ...             M  Bronze\n",
              "\n",
              "[3 rows x 10 columns]"
            ]
          },
          "metadata": {},
          "execution_count": 264
        }
      ]
    },
    {
      "cell_type": "code",
      "metadata": {
        "colab": {
          "base_uri": "https://localhost:8080/",
          "height": 173
        },
        "id": "kKLRGS4-kBmo",
        "outputId": "a68bc04b-95ab-46ff-8bc2-b3b987ee4567"
      },
      "source": [
        "ath = oo.set_index(\"Athlete\")\n",
        "ath.head(3)"
      ],
      "execution_count": null,
      "outputs": [
        {
          "output_type": "execute_result",
          "data": {
            "text/html": [
              "<div>\n",
              "<style scoped>\n",
              "    .dataframe tbody tr th:only-of-type {\n",
              "        vertical-align: middle;\n",
              "    }\n",
              "\n",
              "    .dataframe tbody tr th {\n",
              "        vertical-align: top;\n",
              "    }\n",
              "\n",
              "    .dataframe thead th {\n",
              "        text-align: right;\n",
              "    }\n",
              "</style>\n",
              "<table border=\"1\" class=\"dataframe\">\n",
              "  <thead>\n",
              "    <tr style=\"text-align: right;\">\n",
              "      <th></th>\n",
              "      <th>City</th>\n",
              "      <th>Edition</th>\n",
              "      <th>Sport</th>\n",
              "      <th>Discipline</th>\n",
              "      <th>NOC</th>\n",
              "      <th>Gender</th>\n",
              "      <th>Event</th>\n",
              "      <th>Event_gender</th>\n",
              "      <th>Medal</th>\n",
              "    </tr>\n",
              "    <tr>\n",
              "      <th>Athlete</th>\n",
              "      <th></th>\n",
              "      <th></th>\n",
              "      <th></th>\n",
              "      <th></th>\n",
              "      <th></th>\n",
              "      <th></th>\n",
              "      <th></th>\n",
              "      <th></th>\n",
              "      <th></th>\n",
              "    </tr>\n",
              "  </thead>\n",
              "  <tbody>\n",
              "    <tr>\n",
              "      <th>HAJOS, Alfred</th>\n",
              "      <td>Athens</td>\n",
              "      <td>1896</td>\n",
              "      <td>Aquatics</td>\n",
              "      <td>Swimming</td>\n",
              "      <td>HUN</td>\n",
              "      <td>Men</td>\n",
              "      <td>100m freestyle</td>\n",
              "      <td>M</td>\n",
              "      <td>Gold</td>\n",
              "    </tr>\n",
              "    <tr>\n",
              "      <th>HERSCHMANN, Otto</th>\n",
              "      <td>Athens</td>\n",
              "      <td>1896</td>\n",
              "      <td>Aquatics</td>\n",
              "      <td>Swimming</td>\n",
              "      <td>AUT</td>\n",
              "      <td>Men</td>\n",
              "      <td>100m freestyle</td>\n",
              "      <td>M</td>\n",
              "      <td>Silver</td>\n",
              "    </tr>\n",
              "    <tr>\n",
              "      <th>DRIVAS, Dimitrios</th>\n",
              "      <td>Athens</td>\n",
              "      <td>1896</td>\n",
              "      <td>Aquatics</td>\n",
              "      <td>Swimming</td>\n",
              "      <td>GRE</td>\n",
              "      <td>Men</td>\n",
              "      <td>100m freestyle for sailors</td>\n",
              "      <td>M</td>\n",
              "      <td>Bronze</td>\n",
              "    </tr>\n",
              "  </tbody>\n",
              "</table>\n",
              "</div>"
            ],
            "text/plain": [
              "                     City  Edition  ... Event_gender   Medal\n",
              "Athlete                             ...                     \n",
              "HAJOS, Alfred      Athens     1896  ...            M    Gold\n",
              "HERSCHMANN, Otto   Athens     1896  ...            M  Silver\n",
              "DRIVAS, Dimitrios  Athens     1896  ...            M  Bronze\n",
              "\n",
              "[3 rows x 9 columns]"
            ]
          },
          "metadata": {},
          "execution_count": 265
        }
      ]
    },
    {
      "cell_type": "markdown",
      "metadata": {
        "id": "BvVlIW6zkJ0A"
      },
      "source": [
        "## reset_index()\n",
        "\n",
        "Resetting a dataframe to its normal integer based index"
      ]
    },
    {
      "cell_type": "code",
      "metadata": {
        "colab": {
          "base_uri": "https://localhost:8080/",
          "height": 235
        },
        "id": "7PX47fEhkGvf",
        "outputId": "5e4b2f59-6516-44f4-ea50-24326df7f291"
      },
      "source": [
        "ath = oo.set_index(\"Athlete\")\n",
        "ath.head()"
      ],
      "execution_count": null,
      "outputs": [
        {
          "output_type": "execute_result",
          "data": {
            "text/html": [
              "<div>\n",
              "<style scoped>\n",
              "    .dataframe tbody tr th:only-of-type {\n",
              "        vertical-align: middle;\n",
              "    }\n",
              "\n",
              "    .dataframe tbody tr th {\n",
              "        vertical-align: top;\n",
              "    }\n",
              "\n",
              "    .dataframe thead th {\n",
              "        text-align: right;\n",
              "    }\n",
              "</style>\n",
              "<table border=\"1\" class=\"dataframe\">\n",
              "  <thead>\n",
              "    <tr style=\"text-align: right;\">\n",
              "      <th></th>\n",
              "      <th>City</th>\n",
              "      <th>Edition</th>\n",
              "      <th>Sport</th>\n",
              "      <th>Discipline</th>\n",
              "      <th>NOC</th>\n",
              "      <th>Gender</th>\n",
              "      <th>Event</th>\n",
              "      <th>Event_gender</th>\n",
              "      <th>Medal</th>\n",
              "    </tr>\n",
              "    <tr>\n",
              "      <th>Athlete</th>\n",
              "      <th></th>\n",
              "      <th></th>\n",
              "      <th></th>\n",
              "      <th></th>\n",
              "      <th></th>\n",
              "      <th></th>\n",
              "      <th></th>\n",
              "      <th></th>\n",
              "      <th></th>\n",
              "    </tr>\n",
              "  </thead>\n",
              "  <tbody>\n",
              "    <tr>\n",
              "      <th>HAJOS, Alfred</th>\n",
              "      <td>Athens</td>\n",
              "      <td>1896</td>\n",
              "      <td>Aquatics</td>\n",
              "      <td>Swimming</td>\n",
              "      <td>HUN</td>\n",
              "      <td>Men</td>\n",
              "      <td>100m freestyle</td>\n",
              "      <td>M</td>\n",
              "      <td>Gold</td>\n",
              "    </tr>\n",
              "    <tr>\n",
              "      <th>HERSCHMANN, Otto</th>\n",
              "      <td>Athens</td>\n",
              "      <td>1896</td>\n",
              "      <td>Aquatics</td>\n",
              "      <td>Swimming</td>\n",
              "      <td>AUT</td>\n",
              "      <td>Men</td>\n",
              "      <td>100m freestyle</td>\n",
              "      <td>M</td>\n",
              "      <td>Silver</td>\n",
              "    </tr>\n",
              "    <tr>\n",
              "      <th>DRIVAS, Dimitrios</th>\n",
              "      <td>Athens</td>\n",
              "      <td>1896</td>\n",
              "      <td>Aquatics</td>\n",
              "      <td>Swimming</td>\n",
              "      <td>GRE</td>\n",
              "      <td>Men</td>\n",
              "      <td>100m freestyle for sailors</td>\n",
              "      <td>M</td>\n",
              "      <td>Bronze</td>\n",
              "    </tr>\n",
              "    <tr>\n",
              "      <th>MALOKINIS, Ioannis</th>\n",
              "      <td>Athens</td>\n",
              "      <td>1896</td>\n",
              "      <td>Aquatics</td>\n",
              "      <td>Swimming</td>\n",
              "      <td>GRE</td>\n",
              "      <td>Men</td>\n",
              "      <td>100m freestyle for sailors</td>\n",
              "      <td>M</td>\n",
              "      <td>Gold</td>\n",
              "    </tr>\n",
              "    <tr>\n",
              "      <th>CHASAPIS, Spiridon</th>\n",
              "      <td>Athens</td>\n",
              "      <td>1896</td>\n",
              "      <td>Aquatics</td>\n",
              "      <td>Swimming</td>\n",
              "      <td>GRE</td>\n",
              "      <td>Men</td>\n",
              "      <td>100m freestyle for sailors</td>\n",
              "      <td>M</td>\n",
              "      <td>Silver</td>\n",
              "    </tr>\n",
              "  </tbody>\n",
              "</table>\n",
              "</div>"
            ],
            "text/plain": [
              "                      City  Edition  ... Event_gender   Medal\n",
              "Athlete                              ...                     \n",
              "HAJOS, Alfred       Athens     1896  ...            M    Gold\n",
              "HERSCHMANN, Otto    Athens     1896  ...            M  Silver\n",
              "DRIVAS, Dimitrios   Athens     1896  ...            M  Bronze\n",
              "MALOKINIS, Ioannis  Athens     1896  ...            M    Gold\n",
              "CHASAPIS, Spiridon  Athens     1896  ...            M  Silver\n",
              "\n",
              "[5 rows x 9 columns]"
            ]
          },
          "metadata": {},
          "execution_count": 266
        }
      ]
    },
    {
      "cell_type": "code",
      "metadata": {
        "colab": {
          "base_uri": "https://localhost:8080/",
          "height": 142
        },
        "id": "DLTribO3kWaQ",
        "outputId": "1f9a52b0-10ac-4e38-dced-569758bc1390"
      },
      "source": [
        "ath.reset_index(inplace=True)\n",
        "ath.head(3)"
      ],
      "execution_count": null,
      "outputs": [
        {
          "output_type": "execute_result",
          "data": {
            "text/html": [
              "<div>\n",
              "<style scoped>\n",
              "    .dataframe tbody tr th:only-of-type {\n",
              "        vertical-align: middle;\n",
              "    }\n",
              "\n",
              "    .dataframe tbody tr th {\n",
              "        vertical-align: top;\n",
              "    }\n",
              "\n",
              "    .dataframe thead th {\n",
              "        text-align: right;\n",
              "    }\n",
              "</style>\n",
              "<table border=\"1\" class=\"dataframe\">\n",
              "  <thead>\n",
              "    <tr style=\"text-align: right;\">\n",
              "      <th></th>\n",
              "      <th>Athlete</th>\n",
              "      <th>City</th>\n",
              "      <th>Edition</th>\n",
              "      <th>Sport</th>\n",
              "      <th>Discipline</th>\n",
              "      <th>NOC</th>\n",
              "      <th>Gender</th>\n",
              "      <th>Event</th>\n",
              "      <th>Event_gender</th>\n",
              "      <th>Medal</th>\n",
              "    </tr>\n",
              "  </thead>\n",
              "  <tbody>\n",
              "    <tr>\n",
              "      <th>0</th>\n",
              "      <td>HAJOS, Alfred</td>\n",
              "      <td>Athens</td>\n",
              "      <td>1896</td>\n",
              "      <td>Aquatics</td>\n",
              "      <td>Swimming</td>\n",
              "      <td>HUN</td>\n",
              "      <td>Men</td>\n",
              "      <td>100m freestyle</td>\n",
              "      <td>M</td>\n",
              "      <td>Gold</td>\n",
              "    </tr>\n",
              "    <tr>\n",
              "      <th>1</th>\n",
              "      <td>HERSCHMANN, Otto</td>\n",
              "      <td>Athens</td>\n",
              "      <td>1896</td>\n",
              "      <td>Aquatics</td>\n",
              "      <td>Swimming</td>\n",
              "      <td>AUT</td>\n",
              "      <td>Men</td>\n",
              "      <td>100m freestyle</td>\n",
              "      <td>M</td>\n",
              "      <td>Silver</td>\n",
              "    </tr>\n",
              "    <tr>\n",
              "      <th>2</th>\n",
              "      <td>DRIVAS, Dimitrios</td>\n",
              "      <td>Athens</td>\n",
              "      <td>1896</td>\n",
              "      <td>Aquatics</td>\n",
              "      <td>Swimming</td>\n",
              "      <td>GRE</td>\n",
              "      <td>Men</td>\n",
              "      <td>100m freestyle for sailors</td>\n",
              "      <td>M</td>\n",
              "      <td>Bronze</td>\n",
              "    </tr>\n",
              "  </tbody>\n",
              "</table>\n",
              "</div>"
            ],
            "text/plain": [
              "             Athlete    City  ...  Event_gender   Medal\n",
              "0      HAJOS, Alfred  Athens  ...             M    Gold\n",
              "1   HERSCHMANN, Otto  Athens  ...             M  Silver\n",
              "2  DRIVAS, Dimitrios  Athens  ...             M  Bronze\n",
              "\n",
              "[3 rows x 10 columns]"
            ]
          },
          "metadata": {},
          "execution_count": 267
        }
      ]
    },
    {
      "cell_type": "markdown",
      "metadata": {
        "id": "YYgI9oXnkeKP"
      },
      "source": [
        "## Sorting an index\n",
        "Reduces time to access"
      ]
    },
    {
      "cell_type": "code",
      "metadata": {
        "colab": {
          "base_uri": "https://localhost:8080/",
          "height": 235
        },
        "id": "OJU-ASLUkch6",
        "outputId": "c81484f1-275a-49b4-b59d-031a736aec79"
      },
      "source": [
        "ath = oo.set_index(\"Athlete\")\n",
        "ath.sort_index(inplace=True, ascending=False)\n",
        "ath.head()"
      ],
      "execution_count": null,
      "outputs": [
        {
          "output_type": "execute_result",
          "data": {
            "text/html": [
              "<div>\n",
              "<style scoped>\n",
              "    .dataframe tbody tr th:only-of-type {\n",
              "        vertical-align: middle;\n",
              "    }\n",
              "\n",
              "    .dataframe tbody tr th {\n",
              "        vertical-align: top;\n",
              "    }\n",
              "\n",
              "    .dataframe thead th {\n",
              "        text-align: right;\n",
              "    }\n",
              "</style>\n",
              "<table border=\"1\" class=\"dataframe\">\n",
              "  <thead>\n",
              "    <tr style=\"text-align: right;\">\n",
              "      <th></th>\n",
              "      <th>City</th>\n",
              "      <th>Edition</th>\n",
              "      <th>Sport</th>\n",
              "      <th>Discipline</th>\n",
              "      <th>NOC</th>\n",
              "      <th>Gender</th>\n",
              "      <th>Event</th>\n",
              "      <th>Event_gender</th>\n",
              "      <th>Medal</th>\n",
              "    </tr>\n",
              "    <tr>\n",
              "      <th>Athlete</th>\n",
              "      <th></th>\n",
              "      <th></th>\n",
              "      <th></th>\n",
              "      <th></th>\n",
              "      <th></th>\n",
              "      <th></th>\n",
              "      <th></th>\n",
              "      <th></th>\n",
              "      <th></th>\n",
              "    </tr>\n",
              "  </thead>\n",
              "  <tbody>\n",
              "    <tr>\n",
              "      <th>ÖSTRAND, Per-Olof</th>\n",
              "      <td>Helsinki</td>\n",
              "      <td>1952</td>\n",
              "      <td>Aquatics</td>\n",
              "      <td>Swimming</td>\n",
              "      <td>SWE</td>\n",
              "      <td>Men</td>\n",
              "      <td>400m freestyle</td>\n",
              "      <td>M</td>\n",
              "      <td>Bronze</td>\n",
              "    </tr>\n",
              "    <tr>\n",
              "      <th>ÖSTMO, Ole</th>\n",
              "      <td>Paris</td>\n",
              "      <td>1900</td>\n",
              "      <td>Shooting</td>\n",
              "      <td>Shooting</td>\n",
              "      <td>NOR</td>\n",
              "      <td>Men</td>\n",
              "      <td>free rifle, team</td>\n",
              "      <td>M</td>\n",
              "      <td>Silver</td>\n",
              "    </tr>\n",
              "    <tr>\n",
              "      <th>ÖSTMO, Ole</th>\n",
              "      <td>Paris</td>\n",
              "      <td>1900</td>\n",
              "      <td>Shooting</td>\n",
              "      <td>Shooting</td>\n",
              "      <td>NOR</td>\n",
              "      <td>Men</td>\n",
              "      <td>army rifle, 300m, standing</td>\n",
              "      <td>M</td>\n",
              "      <td>Silver</td>\n",
              "    </tr>\n",
              "    <tr>\n",
              "      <th>ÖSTMO, Ole</th>\n",
              "      <td>Paris</td>\n",
              "      <td>1900</td>\n",
              "      <td>Shooting</td>\n",
              "      <td>Shooting</td>\n",
              "      <td>NOR</td>\n",
              "      <td>Men</td>\n",
              "      <td>army rifle, 300m, prone</td>\n",
              "      <td>M</td>\n",
              "      <td>Bronze</td>\n",
              "    </tr>\n",
              "    <tr>\n",
              "      <th>ÖSTMO, Ole</th>\n",
              "      <td>Paris</td>\n",
              "      <td>1900</td>\n",
              "      <td>Shooting</td>\n",
              "      <td>Shooting</td>\n",
              "      <td>NOR</td>\n",
              "      <td>Men</td>\n",
              "      <td>army rifle, 300m, 3 positions</td>\n",
              "      <td>M</td>\n",
              "      <td>Bronze</td>\n",
              "    </tr>\n",
              "  </tbody>\n",
              "</table>\n",
              "</div>"
            ],
            "text/plain": [
              "                       City  Edition  ... Event_gender   Medal\n",
              "Athlete                               ...                     \n",
              "ÖSTRAND, Per-Olof  Helsinki     1952  ...            M  Bronze\n",
              "ÖSTMO, Ole            Paris     1900  ...            M  Silver\n",
              "ÖSTMO, Ole            Paris     1900  ...            M  Silver\n",
              "ÖSTMO, Ole            Paris     1900  ...            M  Bronze\n",
              "ÖSTMO, Ole            Paris     1900  ...            M  Bronze\n",
              "\n",
              "[5 rows x 9 columns]"
            ]
          },
          "metadata": {},
          "execution_count": 268
        }
      ]
    },
    {
      "cell_type": "markdown",
      "metadata": {
        "id": "p_juD_fBlCoR"
      },
      "source": [
        "## loc[]\n",
        "\n",
        "label based indexing for selection by label"
      ]
    },
    {
      "cell_type": "code",
      "metadata": {
        "colab": {
          "base_uri": "https://localhost:8080/",
          "height": 173
        },
        "id": "43c9rRMGk944",
        "outputId": "5390f767-d3e7-4f4d-ac56-5819d1609402"
      },
      "source": [
        "# oo.loc[\"BOLT, Usain\"] # Key error because we're using the default dataframe which uses an integer index\n",
        "\n",
        "ath = oo.set_index(\"Athlete\")\n",
        "ath.loc[\"BOLT, Usain\"] # Interestingly the index does not need to be unique\n"
      ],
      "execution_count": null,
      "outputs": [
        {
          "output_type": "execute_result",
          "data": {
            "text/html": [
              "<div>\n",
              "<style scoped>\n",
              "    .dataframe tbody tr th:only-of-type {\n",
              "        vertical-align: middle;\n",
              "    }\n",
              "\n",
              "    .dataframe tbody tr th {\n",
              "        vertical-align: top;\n",
              "    }\n",
              "\n",
              "    .dataframe thead th {\n",
              "        text-align: right;\n",
              "    }\n",
              "</style>\n",
              "<table border=\"1\" class=\"dataframe\">\n",
              "  <thead>\n",
              "    <tr style=\"text-align: right;\">\n",
              "      <th></th>\n",
              "      <th>City</th>\n",
              "      <th>Edition</th>\n",
              "      <th>Sport</th>\n",
              "      <th>Discipline</th>\n",
              "      <th>NOC</th>\n",
              "      <th>Gender</th>\n",
              "      <th>Event</th>\n",
              "      <th>Event_gender</th>\n",
              "      <th>Medal</th>\n",
              "    </tr>\n",
              "    <tr>\n",
              "      <th>Athlete</th>\n",
              "      <th></th>\n",
              "      <th></th>\n",
              "      <th></th>\n",
              "      <th></th>\n",
              "      <th></th>\n",
              "      <th></th>\n",
              "      <th></th>\n",
              "      <th></th>\n",
              "      <th></th>\n",
              "    </tr>\n",
              "  </thead>\n",
              "  <tbody>\n",
              "    <tr>\n",
              "      <th>BOLT, Usain</th>\n",
              "      <td>Beijing</td>\n",
              "      <td>2008</td>\n",
              "      <td>Athletics</td>\n",
              "      <td>Athletics</td>\n",
              "      <td>JAM</td>\n",
              "      <td>Men</td>\n",
              "      <td>100m</td>\n",
              "      <td>M</td>\n",
              "      <td>Gold</td>\n",
              "    </tr>\n",
              "    <tr>\n",
              "      <th>BOLT, Usain</th>\n",
              "      <td>Beijing</td>\n",
              "      <td>2008</td>\n",
              "      <td>Athletics</td>\n",
              "      <td>Athletics</td>\n",
              "      <td>JAM</td>\n",
              "      <td>Men</td>\n",
              "      <td>200m</td>\n",
              "      <td>M</td>\n",
              "      <td>Gold</td>\n",
              "    </tr>\n",
              "    <tr>\n",
              "      <th>BOLT, Usain</th>\n",
              "      <td>Beijing</td>\n",
              "      <td>2008</td>\n",
              "      <td>Athletics</td>\n",
              "      <td>Athletics</td>\n",
              "      <td>JAM</td>\n",
              "      <td>Men</td>\n",
              "      <td>4x100m relay</td>\n",
              "      <td>M</td>\n",
              "      <td>Gold</td>\n",
              "    </tr>\n",
              "  </tbody>\n",
              "</table>\n",
              "</div>"
            ],
            "text/plain": [
              "                City  Edition      Sport  ...         Event Event_gender Medal\n",
              "Athlete                                   ...                                 \n",
              "BOLT, Usain  Beijing     2008  Athletics  ...          100m            M  Gold\n",
              "BOLT, Usain  Beijing     2008  Athletics  ...          200m            M  Gold\n",
              "BOLT, Usain  Beijing     2008  Athletics  ...  4x100m relay            M  Gold\n",
              "\n",
              "[3 rows x 9 columns]"
            ]
          },
          "metadata": {},
          "execution_count": 269
        }
      ]
    },
    {
      "cell_type": "markdown",
      "metadata": {
        "id": "1075jRmElq1f"
      },
      "source": [
        "## iloc[]\n",
        "\n",
        "Integer position based indexing, allows for pythonic slicing"
      ]
    },
    {
      "cell_type": "code",
      "metadata": {
        "colab": {
          "base_uri": "https://localhost:8080/"
        },
        "id": "I5AHzgDQlsXT",
        "outputId": "61b704dd-2b12-4a6c-e4eb-423d29a0a6a2"
      },
      "source": [
        "oo.iloc[1700]"
      ],
      "execution_count": null,
      "outputs": [
        {
          "output_type": "execute_result",
          "data": {
            "text/plain": [
              "Athlete         RABOT, Pierre\n",
              "City                   London\n",
              "Edition                  1908\n",
              "Sport                 Sailing\n",
              "Discipline            Sailing\n",
              "NOC                       FRA\n",
              "Gender                    Men\n",
              "Event                      6m\n",
              "Event_gender                X\n",
              "Medal                  Bronze\n",
              "Name: 1700, dtype: object"
            ]
          },
          "metadata": {},
          "execution_count": 270
        }
      ]
    },
    {
      "cell_type": "code",
      "metadata": {
        "colab": {
          "base_uri": "https://localhost:8080/",
          "height": 173
        },
        "id": "VvwEiTPnl3X6",
        "outputId": "1fa1cd58-45bb-4c8b-e940-fb274ca6783f"
      },
      "source": [
        "# double brackets work\n",
        "oo.iloc[[1542, 2390, 6000, 15000]]"
      ],
      "execution_count": null,
      "outputs": [
        {
          "output_type": "execute_result",
          "data": {
            "text/html": [
              "<div>\n",
              "<style scoped>\n",
              "    .dataframe tbody tr th:only-of-type {\n",
              "        vertical-align: middle;\n",
              "    }\n",
              "\n",
              "    .dataframe tbody tr th {\n",
              "        vertical-align: top;\n",
              "    }\n",
              "\n",
              "    .dataframe thead th {\n",
              "        text-align: right;\n",
              "    }\n",
              "</style>\n",
              "<table border=\"1\" class=\"dataframe\">\n",
              "  <thead>\n",
              "    <tr style=\"text-align: right;\">\n",
              "      <th></th>\n",
              "      <th>Athlete</th>\n",
              "      <th>City</th>\n",
              "      <th>Edition</th>\n",
              "      <th>Sport</th>\n",
              "      <th>Discipline</th>\n",
              "      <th>NOC</th>\n",
              "      <th>Gender</th>\n",
              "      <th>Event</th>\n",
              "      <th>Event_gender</th>\n",
              "      <th>Medal</th>\n",
              "    </tr>\n",
              "  </thead>\n",
              "  <tbody>\n",
              "    <tr>\n",
              "      <th>1542</th>\n",
              "      <td>DUCKETT, Richard Louis</td>\n",
              "      <td>London</td>\n",
              "      <td>1908</td>\n",
              "      <td>Lacrosse</td>\n",
              "      <td>Lacrosse</td>\n",
              "      <td>CAN</td>\n",
              "      <td>Men</td>\n",
              "      <td>lacrosse</td>\n",
              "      <td>M</td>\n",
              "      <td>Gold</td>\n",
              "    </tr>\n",
              "    <tr>\n",
              "      <th>2390</th>\n",
              "      <td>SAASTAMOINEN, Eino</td>\n",
              "      <td>Stockholm</td>\n",
              "      <td>1912</td>\n",
              "      <td>Gymnastics</td>\n",
              "      <td>Artistic G.</td>\n",
              "      <td>FIN</td>\n",
              "      <td>Men</td>\n",
              "      <td>team, free system</td>\n",
              "      <td>M</td>\n",
              "      <td>Silver</td>\n",
              "    </tr>\n",
              "    <tr>\n",
              "      <th>6000</th>\n",
              "      <td>AGOSTONI, Carlo</td>\n",
              "      <td>Los Angeles</td>\n",
              "      <td>1932</td>\n",
              "      <td>Fencing</td>\n",
              "      <td>Fencing</td>\n",
              "      <td>ITA</td>\n",
              "      <td>Men</td>\n",
              "      <td>épée individual</td>\n",
              "      <td>M</td>\n",
              "      <td>Bronze</td>\n",
              "    </tr>\n",
              "    <tr>\n",
              "      <th>15000</th>\n",
              "      <td>JENSEN, Poul Richard Hoj</td>\n",
              "      <td>Montreal</td>\n",
              "      <td>1976</td>\n",
              "      <td>Sailing</td>\n",
              "      <td>Sailing</td>\n",
              "      <td>DEN</td>\n",
              "      <td>Men</td>\n",
              "      <td>fleet/match race keelboat open (Soling)</td>\n",
              "      <td>X</td>\n",
              "      <td>Gold</td>\n",
              "    </tr>\n",
              "  </tbody>\n",
              "</table>\n",
              "</div>"
            ],
            "text/plain": [
              "                        Athlete         City  ...  Event_gender   Medal\n",
              "1542     DUCKETT, Richard Louis       London  ...             M    Gold\n",
              "2390         SAASTAMOINEN, Eino    Stockholm  ...             M  Silver\n",
              "6000            AGOSTONI, Carlo  Los Angeles  ...             M  Bronze\n",
              "15000  JENSEN, Poul Richard Hoj     Montreal  ...             X    Gold\n",
              "\n",
              "[4 rows x 10 columns]"
            ]
          },
          "metadata": {},
          "execution_count": 271
        }
      ]
    },
    {
      "cell_type": "code",
      "metadata": {
        "colab": {
          "base_uri": "https://localhost:8080/",
          "height": 142
        },
        "id": "5aPj7TG_l_D9",
        "outputId": "c666140d-d146-4e31-9197-ac672518f61c"
      },
      "source": [
        "# Slicing\n",
        "oo.iloc[1:4]"
      ],
      "execution_count": null,
      "outputs": [
        {
          "output_type": "execute_result",
          "data": {
            "text/html": [
              "<div>\n",
              "<style scoped>\n",
              "    .dataframe tbody tr th:only-of-type {\n",
              "        vertical-align: middle;\n",
              "    }\n",
              "\n",
              "    .dataframe tbody tr th {\n",
              "        vertical-align: top;\n",
              "    }\n",
              "\n",
              "    .dataframe thead th {\n",
              "        text-align: right;\n",
              "    }\n",
              "</style>\n",
              "<table border=\"1\" class=\"dataframe\">\n",
              "  <thead>\n",
              "    <tr style=\"text-align: right;\">\n",
              "      <th></th>\n",
              "      <th>Athlete</th>\n",
              "      <th>City</th>\n",
              "      <th>Edition</th>\n",
              "      <th>Sport</th>\n",
              "      <th>Discipline</th>\n",
              "      <th>NOC</th>\n",
              "      <th>Gender</th>\n",
              "      <th>Event</th>\n",
              "      <th>Event_gender</th>\n",
              "      <th>Medal</th>\n",
              "    </tr>\n",
              "  </thead>\n",
              "  <tbody>\n",
              "    <tr>\n",
              "      <th>1</th>\n",
              "      <td>HERSCHMANN, Otto</td>\n",
              "      <td>Athens</td>\n",
              "      <td>1896</td>\n",
              "      <td>Aquatics</td>\n",
              "      <td>Swimming</td>\n",
              "      <td>AUT</td>\n",
              "      <td>Men</td>\n",
              "      <td>100m freestyle</td>\n",
              "      <td>M</td>\n",
              "      <td>Silver</td>\n",
              "    </tr>\n",
              "    <tr>\n",
              "      <th>2</th>\n",
              "      <td>DRIVAS, Dimitrios</td>\n",
              "      <td>Athens</td>\n",
              "      <td>1896</td>\n",
              "      <td>Aquatics</td>\n",
              "      <td>Swimming</td>\n",
              "      <td>GRE</td>\n",
              "      <td>Men</td>\n",
              "      <td>100m freestyle for sailors</td>\n",
              "      <td>M</td>\n",
              "      <td>Bronze</td>\n",
              "    </tr>\n",
              "    <tr>\n",
              "      <th>3</th>\n",
              "      <td>MALOKINIS, Ioannis</td>\n",
              "      <td>Athens</td>\n",
              "      <td>1896</td>\n",
              "      <td>Aquatics</td>\n",
              "      <td>Swimming</td>\n",
              "      <td>GRE</td>\n",
              "      <td>Men</td>\n",
              "      <td>100m freestyle for sailors</td>\n",
              "      <td>M</td>\n",
              "      <td>Gold</td>\n",
              "    </tr>\n",
              "  </tbody>\n",
              "</table>\n",
              "</div>"
            ],
            "text/plain": [
              "              Athlete    City  ...  Event_gender   Medal\n",
              "1    HERSCHMANN, Otto  Athens  ...             M  Silver\n",
              "2   DRIVAS, Dimitrios  Athens  ...             M  Bronze\n",
              "3  MALOKINIS, Ioannis  Athens  ...             M    Gold\n",
              "\n",
              "[3 rows x 10 columns]"
            ]
          },
          "metadata": {},
          "execution_count": 272
        }
      ]
    },
    {
      "cell_type": "markdown",
      "metadata": {
        "id": "Xne0A7X7mMrt"
      },
      "source": [
        "# Groupby\n",
        "\n",
        "- splits df into groups\n",
        "- applies a function\n",
        "- combines results into df\n",
        "\n",
        "`agg` is good to check out"
      ]
    },
    {
      "cell_type": "code",
      "metadata": {
        "colab": {
          "base_uri": "https://localhost:8080/"
        },
        "id": "xSjggdQJmR-0",
        "outputId": "7606f7b4-a58a-4256-d554-65442a322922"
      },
      "source": [
        "# The groupby object is not a dataframe\n",
        "# It's more like a dict of dataframes\n",
        "\n",
        "oo.groupby(\"Edition\")"
      ],
      "execution_count": null,
      "outputs": [
        {
          "output_type": "execute_result",
          "data": {
            "text/plain": [
              "<pandas.core.groupby.generic.DataFrameGroupBy object at 0x7f8a28134dd0>"
            ]
          },
          "metadata": {},
          "execution_count": 273
        }
      ]
    },
    {
      "cell_type": "code",
      "metadata": {
        "colab": {
          "base_uri": "https://localhost:8080/"
        },
        "id": "tSLtPvmmmeWW",
        "outputId": "8a0b49f3-e1b8-413f-c5a0-66002d6757da"
      },
      "source": [
        "type(oo.groupby(\"Edition\"))"
      ],
      "execution_count": null,
      "outputs": [
        {
          "output_type": "execute_result",
          "data": {
            "text/plain": [
              "pandas.core.groupby.generic.DataFrameGroupBy"
            ]
          },
          "metadata": {},
          "execution_count": 274
        }
      ]
    },
    {
      "cell_type": "code",
      "metadata": {
        "colab": {
          "base_uri": "https://localhost:8080/"
        },
        "id": "7ui1cVCYmjXm",
        "outputId": "2520e5e2-8e8d-4678-ce73-aeedc31abb59"
      },
      "source": [
        "# You can see its basically a key value tuple of (<Edition>, <Dataframe>)\n",
        "list(oo.groupby(\"Edition\"))[:2]"
      ],
      "execution_count": null,
      "outputs": [
        {
          "output_type": "execute_result",
          "data": {
            "text/plain": [
              "[(1896,                       Athlete    City  ...  Event_gender   Medal\n",
              "  0               HAJOS, Alfred  Athens  ...             M    Gold\n",
              "  1            HERSCHMANN, Otto  Athens  ...             M  Silver\n",
              "  2           DRIVAS, Dimitrios  Athens  ...             M  Bronze\n",
              "  3          MALOKINIS, Ioannis  Athens  ...             M    Gold\n",
              "  4          CHASAPIS, Spiridon  Athens  ...             M  Silver\n",
              "  ..                        ...     ...  ...           ...     ...\n",
              "  146             JENSEN, Viggo  Athens  ...             M    Gold\n",
              "  147       ELLIOTT, Launceston  Athens  ...             M  Silver\n",
              "  148  CHRISTOPOULOS, Stephanos  Athens  ...             M  Bronze\n",
              "  149            SCHUMANN, Carl  Athens  ...             M    Gold\n",
              "  150          TSITAS, Georgios  Athens  ...             M  Silver\n",
              "  \n",
              "  [151 rows x 10 columns]),\n",
              " (1900,\n",
              "                                 Athlete   City  ...  Event_gender   Medal\n",
              "  151                     HALMAY, Zoltan  Paris  ...             M  Bronze\n",
              "  152                JARVIS, John Arthur  Paris  ...             M    Gold\n",
              "  153                        WAHLE, Otto  Paris  ...             M  Silver\n",
              "  154                    DROST, Johannes  Paris  ...             M  Bronze\n",
              "  155                  HOPPENBERG, Ernst  Paris  ...             M    Gold\n",
              "  ..                                 ...    ...  ...           ...     ...\n",
              "  658                       COLLAS, Jean  Paris  ...             M  Silver\n",
              "  659                  GONDOUIN, Charles  Paris  ...             M  Silver\n",
              "  660  HENRIQUEZ DE ZUBIERRA, Constantin  Paris  ...             M  Silver\n",
              "  661                      ROFFO, Joseph  Paris  ...             M  Silver\n",
              "  662                     SARRADE, Emile  Paris  ...             M  Silver\n",
              "  \n",
              "  [512 rows x 10 columns])]"
            ]
          },
          "metadata": {},
          "execution_count": 275
        }
      ]
    },
    {
      "cell_type": "markdown",
      "metadata": {
        "id": "Af0ZkY4Cm0UN"
      },
      "source": [
        "## Iterate through a groupby"
      ]
    },
    {
      "cell_type": "code",
      "metadata": {
        "colab": {
          "base_uri": "https://localhost:8080/"
        },
        "id": "iO59FC9cm2Mz",
        "outputId": "6a9d027e-594d-4a35-f49c-34442f41ee21"
      },
      "source": [
        "for key, df in oo.groupby(\"Edition\"):\n",
        "  print(key)\n",
        "  print(type(df))"
      ],
      "execution_count": null,
      "outputs": [
        {
          "output_type": "stream",
          "name": "stdout",
          "text": [
            "1896\n",
            "<class 'pandas.core.frame.DataFrame'>\n",
            "1900\n",
            "<class 'pandas.core.frame.DataFrame'>\n",
            "1904\n",
            "<class 'pandas.core.frame.DataFrame'>\n",
            "1908\n",
            "<class 'pandas.core.frame.DataFrame'>\n",
            "1912\n",
            "<class 'pandas.core.frame.DataFrame'>\n",
            "1920\n",
            "<class 'pandas.core.frame.DataFrame'>\n",
            "1924\n",
            "<class 'pandas.core.frame.DataFrame'>\n",
            "1928\n",
            "<class 'pandas.core.frame.DataFrame'>\n",
            "1932\n",
            "<class 'pandas.core.frame.DataFrame'>\n",
            "1936\n",
            "<class 'pandas.core.frame.DataFrame'>\n",
            "1948\n",
            "<class 'pandas.core.frame.DataFrame'>\n",
            "1952\n",
            "<class 'pandas.core.frame.DataFrame'>\n",
            "1956\n",
            "<class 'pandas.core.frame.DataFrame'>\n",
            "1960\n",
            "<class 'pandas.core.frame.DataFrame'>\n",
            "1964\n",
            "<class 'pandas.core.frame.DataFrame'>\n",
            "1968\n",
            "<class 'pandas.core.frame.DataFrame'>\n",
            "1972\n",
            "<class 'pandas.core.frame.DataFrame'>\n",
            "1976\n",
            "<class 'pandas.core.frame.DataFrame'>\n",
            "1980\n",
            "<class 'pandas.core.frame.DataFrame'>\n",
            "1984\n",
            "<class 'pandas.core.frame.DataFrame'>\n",
            "1988\n",
            "<class 'pandas.core.frame.DataFrame'>\n",
            "1992\n",
            "<class 'pandas.core.frame.DataFrame'>\n",
            "1996\n",
            "<class 'pandas.core.frame.DataFrame'>\n",
            "2000\n",
            "<class 'pandas.core.frame.DataFrame'>\n",
            "2004\n",
            "<class 'pandas.core.frame.DataFrame'>\n",
            "2008\n",
            "<class 'pandas.core.frame.DataFrame'>\n"
          ]
        }
      ]
    },
    {
      "cell_type": "markdown",
      "metadata": {
        "id": "oCV9QIoSnS7F"
      },
      "source": [
        "## groupby functions"
      ]
    },
    {
      "cell_type": "code",
      "metadata": {
        "colab": {
          "base_uri": "https://localhost:8080/"
        },
        "id": "0cjJYkGlm9_g",
        "outputId": "a39b455b-1d2d-4200-f489-708cd20a066c"
      },
      "source": [
        "# Number of medals per Edition\n",
        "oo.groupby(\"Edition\").size()"
      ],
      "execution_count": null,
      "outputs": [
        {
          "output_type": "execute_result",
          "data": {
            "text/plain": [
              "Edition\n",
              "1896     151\n",
              "1900     512\n",
              "1904     470\n",
              "1908     804\n",
              "1912     885\n",
              "1920    1298\n",
              "1924     884\n",
              "1928     710\n",
              "1932     615\n",
              "1936     875\n",
              "1948     814\n",
              "1952     889\n",
              "1956     885\n",
              "1960     882\n",
              "1964    1010\n",
              "1968    1031\n",
              "1972    1185\n",
              "1976    1305\n",
              "1980    1387\n",
              "1984    1459\n",
              "1988    1546\n",
              "1992    1705\n",
              "1996    1859\n",
              "2000    2015\n",
              "2004    1998\n",
              "2008    2042\n",
              "dtype: int64"
            ]
          },
          "metadata": {},
          "execution_count": 277
        }
      ]
    },
    {
      "cell_type": "code",
      "metadata": {
        "colab": {
          "base_uri": "https://localhost:8080/",
          "height": 688
        },
        "id": "fE_WrQvrmzOR",
        "outputId": "047705a6-6392-47a5-b3a5-042d4049eb72"
      },
      "source": [
        "# This is all fucked because most of our data is str\n",
        "# The agg method lets you specify several operations to perform on each group\n",
        "oo.groupby([\"Edition\", \"NOC\", \"Medal\"]).agg([\"min\", \"max\", \"count\"])"
      ],
      "execution_count": null,
      "outputs": [
        {
          "output_type": "execute_result",
          "data": {
            "text/html": [
              "<div>\n",
              "<style scoped>\n",
              "    .dataframe tbody tr th:only-of-type {\n",
              "        vertical-align: middle;\n",
              "    }\n",
              "\n",
              "    .dataframe tbody tr th {\n",
              "        vertical-align: top;\n",
              "    }\n",
              "\n",
              "    .dataframe thead tr th {\n",
              "        text-align: left;\n",
              "    }\n",
              "\n",
              "    .dataframe thead tr:last-of-type th {\n",
              "        text-align: right;\n",
              "    }\n",
              "</style>\n",
              "<table border=\"1\" class=\"dataframe\">\n",
              "  <thead>\n",
              "    <tr>\n",
              "      <th></th>\n",
              "      <th></th>\n",
              "      <th></th>\n",
              "      <th colspan=\"3\" halign=\"left\">Athlete</th>\n",
              "      <th colspan=\"3\" halign=\"left\">City</th>\n",
              "      <th colspan=\"3\" halign=\"left\">Sport</th>\n",
              "      <th colspan=\"3\" halign=\"left\">Discipline</th>\n",
              "      <th colspan=\"3\" halign=\"left\">Gender</th>\n",
              "      <th colspan=\"3\" halign=\"left\">Event</th>\n",
              "      <th colspan=\"3\" halign=\"left\">Event_gender</th>\n",
              "    </tr>\n",
              "    <tr>\n",
              "      <th></th>\n",
              "      <th></th>\n",
              "      <th></th>\n",
              "      <th>min</th>\n",
              "      <th>max</th>\n",
              "      <th>count</th>\n",
              "      <th>min</th>\n",
              "      <th>max</th>\n",
              "      <th>count</th>\n",
              "      <th>min</th>\n",
              "      <th>max</th>\n",
              "      <th>count</th>\n",
              "      <th>min</th>\n",
              "      <th>max</th>\n",
              "      <th>count</th>\n",
              "      <th>min</th>\n",
              "      <th>max</th>\n",
              "      <th>count</th>\n",
              "      <th>min</th>\n",
              "      <th>max</th>\n",
              "      <th>count</th>\n",
              "      <th>min</th>\n",
              "      <th>max</th>\n",
              "      <th>count</th>\n",
              "    </tr>\n",
              "    <tr>\n",
              "      <th>Edition</th>\n",
              "      <th>NOC</th>\n",
              "      <th>Medal</th>\n",
              "      <th></th>\n",
              "      <th></th>\n",
              "      <th></th>\n",
              "      <th></th>\n",
              "      <th></th>\n",
              "      <th></th>\n",
              "      <th></th>\n",
              "      <th></th>\n",
              "      <th></th>\n",
              "      <th></th>\n",
              "      <th></th>\n",
              "      <th></th>\n",
              "      <th></th>\n",
              "      <th></th>\n",
              "      <th></th>\n",
              "      <th></th>\n",
              "      <th></th>\n",
              "      <th></th>\n",
              "      <th></th>\n",
              "      <th></th>\n",
              "      <th></th>\n",
              "    </tr>\n",
              "  </thead>\n",
              "  <tbody>\n",
              "    <tr>\n",
              "      <th rowspan=\"5\" valign=\"top\">1896</th>\n",
              "      <th>AUS</th>\n",
              "      <th>Gold</th>\n",
              "      <td>FLACK, Edwin</td>\n",
              "      <td>FLACK, Edwin</td>\n",
              "      <td>2</td>\n",
              "      <td>Athens</td>\n",
              "      <td>Athens</td>\n",
              "      <td>2</td>\n",
              "      <td>Athletics</td>\n",
              "      <td>Athletics</td>\n",
              "      <td>2</td>\n",
              "      <td>Athletics</td>\n",
              "      <td>Athletics</td>\n",
              "      <td>2</td>\n",
              "      <td>Men</td>\n",
              "      <td>Men</td>\n",
              "      <td>2</td>\n",
              "      <td>1500m</td>\n",
              "      <td>800m</td>\n",
              "      <td>2</td>\n",
              "      <td>M</td>\n",
              "      <td>M</td>\n",
              "      <td>2</td>\n",
              "    </tr>\n",
              "    <tr>\n",
              "      <th rowspan=\"3\" valign=\"top\">AUT</th>\n",
              "      <th>Bronze</th>\n",
              "      <td>SCHMAL, Adolf</td>\n",
              "      <td>SCHMAL, Adolf</td>\n",
              "      <td>2</td>\n",
              "      <td>Athens</td>\n",
              "      <td>Athens</td>\n",
              "      <td>2</td>\n",
              "      <td>Cycling</td>\n",
              "      <td>Cycling</td>\n",
              "      <td>2</td>\n",
              "      <td>Cycling Track</td>\n",
              "      <td>Cycling Track</td>\n",
              "      <td>2</td>\n",
              "      <td>Men</td>\n",
              "      <td>Men</td>\n",
              "      <td>2</td>\n",
              "      <td>10km</td>\n",
              "      <td>1km time trial</td>\n",
              "      <td>2</td>\n",
              "      <td>M</td>\n",
              "      <td>M</td>\n",
              "      <td>2</td>\n",
              "    </tr>\n",
              "    <tr>\n",
              "      <th>Gold</th>\n",
              "      <td>NEUMANN, Paul</td>\n",
              "      <td>SCHMAL, Adolf</td>\n",
              "      <td>2</td>\n",
              "      <td>Athens</td>\n",
              "      <td>Athens</td>\n",
              "      <td>2</td>\n",
              "      <td>Aquatics</td>\n",
              "      <td>Cycling</td>\n",
              "      <td>2</td>\n",
              "      <td>Cycling Track</td>\n",
              "      <td>Swimming</td>\n",
              "      <td>2</td>\n",
              "      <td>Men</td>\n",
              "      <td>Men</td>\n",
              "      <td>2</td>\n",
              "      <td>12-hour race</td>\n",
              "      <td>400m freestyle</td>\n",
              "      <td>2</td>\n",
              "      <td>M</td>\n",
              "      <td>M</td>\n",
              "      <td>2</td>\n",
              "    </tr>\n",
              "    <tr>\n",
              "      <th>Silver</th>\n",
              "      <td>HERSCHMANN, Otto</td>\n",
              "      <td>HERSCHMANN, Otto</td>\n",
              "      <td>1</td>\n",
              "      <td>Athens</td>\n",
              "      <td>Athens</td>\n",
              "      <td>1</td>\n",
              "      <td>Aquatics</td>\n",
              "      <td>Aquatics</td>\n",
              "      <td>1</td>\n",
              "      <td>Swimming</td>\n",
              "      <td>Swimming</td>\n",
              "      <td>1</td>\n",
              "      <td>Men</td>\n",
              "      <td>Men</td>\n",
              "      <td>1</td>\n",
              "      <td>100m freestyle</td>\n",
              "      <td>100m freestyle</td>\n",
              "      <td>1</td>\n",
              "      <td>M</td>\n",
              "      <td>M</td>\n",
              "      <td>1</td>\n",
              "    </tr>\n",
              "    <tr>\n",
              "      <th>DEN</th>\n",
              "      <th>Bronze</th>\n",
              "      <td>JENSEN, Viggo</td>\n",
              "      <td>NIELSEN, Holger</td>\n",
              "      <td>3</td>\n",
              "      <td>Athens</td>\n",
              "      <td>Athens</td>\n",
              "      <td>3</td>\n",
              "      <td>Fencing</td>\n",
              "      <td>Shooting</td>\n",
              "      <td>3</td>\n",
              "      <td>Fencing</td>\n",
              "      <td>Shooting</td>\n",
              "      <td>3</td>\n",
              "      <td>Men</td>\n",
              "      <td>Men</td>\n",
              "      <td>3</td>\n",
              "      <td>25m rapid fire pistol (60 shots)</td>\n",
              "      <td>sabre individual</td>\n",
              "      <td>3</td>\n",
              "      <td>M</td>\n",
              "      <td>M</td>\n",
              "      <td>3</td>\n",
              "    </tr>\n",
              "    <tr>\n",
              "      <th>...</th>\n",
              "      <th>...</th>\n",
              "      <th>...</th>\n",
              "      <td>...</td>\n",
              "      <td>...</td>\n",
              "      <td>...</td>\n",
              "      <td>...</td>\n",
              "      <td>...</td>\n",
              "      <td>...</td>\n",
              "      <td>...</td>\n",
              "      <td>...</td>\n",
              "      <td>...</td>\n",
              "      <td>...</td>\n",
              "      <td>...</td>\n",
              "      <td>...</td>\n",
              "      <td>...</td>\n",
              "      <td>...</td>\n",
              "      <td>...</td>\n",
              "      <td>...</td>\n",
              "      <td>...</td>\n",
              "      <td>...</td>\n",
              "      <td>...</td>\n",
              "      <td>...</td>\n",
              "      <td>...</td>\n",
              "    </tr>\n",
              "    <tr>\n",
              "      <th rowspan=\"5\" valign=\"top\">2008</th>\n",
              "      <th>UZB</th>\n",
              "      <th>Silver</th>\n",
              "      <td>TANGRIEV, Abdullo</td>\n",
              "      <td>TIGIEV, Soslan</td>\n",
              "      <td>2</td>\n",
              "      <td>Beijing</td>\n",
              "      <td>Beijing</td>\n",
              "      <td>2</td>\n",
              "      <td>Judo</td>\n",
              "      <td>Wrestling</td>\n",
              "      <td>2</td>\n",
              "      <td>Judo</td>\n",
              "      <td>Wrestling Free.</td>\n",
              "      <td>2</td>\n",
              "      <td>Men</td>\n",
              "      <td>Men</td>\n",
              "      <td>2</td>\n",
              "      <td>+ 100kg (heavyweight)</td>\n",
              "      <td>66 - 74kg</td>\n",
              "      <td>2</td>\n",
              "      <td>M</td>\n",
              "      <td>M</td>\n",
              "      <td>2</td>\n",
              "    </tr>\n",
              "    <tr>\n",
              "      <th>VEN</th>\n",
              "      <th>Bronze</th>\n",
              "      <td>CONTRERAS RIVERO, Dalia</td>\n",
              "      <td>CONTRERAS RIVERO, Dalia</td>\n",
              "      <td>1</td>\n",
              "      <td>Beijing</td>\n",
              "      <td>Beijing</td>\n",
              "      <td>1</td>\n",
              "      <td>Taekwondo</td>\n",
              "      <td>Taekwondo</td>\n",
              "      <td>1</td>\n",
              "      <td>Taekwondo</td>\n",
              "      <td>Taekwondo</td>\n",
              "      <td>1</td>\n",
              "      <td>Women</td>\n",
              "      <td>Women</td>\n",
              "      <td>1</td>\n",
              "      <td>- 49 kg</td>\n",
              "      <td>- 49 kg</td>\n",
              "      <td>1</td>\n",
              "      <td>W</td>\n",
              "      <td>W</td>\n",
              "      <td>1</td>\n",
              "    </tr>\n",
              "    <tr>\n",
              "      <th>VIE</th>\n",
              "      <th>Silver</th>\n",
              "      <td>HOANG, Anh Tuan</td>\n",
              "      <td>HOANG, Anh Tuan</td>\n",
              "      <td>1</td>\n",
              "      <td>Beijing</td>\n",
              "      <td>Beijing</td>\n",
              "      <td>1</td>\n",
              "      <td>Weightlifting</td>\n",
              "      <td>Weightlifting</td>\n",
              "      <td>1</td>\n",
              "      <td>Weightlifting</td>\n",
              "      <td>Weightlifting</td>\n",
              "      <td>1</td>\n",
              "      <td>Men</td>\n",
              "      <td>Men</td>\n",
              "      <td>1</td>\n",
              "      <td>- 56kg, total (bantamweight)</td>\n",
              "      <td>- 56kg, total (bantamweight)</td>\n",
              "      <td>1</td>\n",
              "      <td>M</td>\n",
              "      <td>M</td>\n",
              "      <td>1</td>\n",
              "    </tr>\n",
              "    <tr>\n",
              "      <th rowspan=\"2\" valign=\"top\">ZIM</th>\n",
              "      <th>Gold</th>\n",
              "      <td>COVENTRY, Kirsty</td>\n",
              "      <td>COVENTRY, Kirsty</td>\n",
              "      <td>1</td>\n",
              "      <td>Beijing</td>\n",
              "      <td>Beijing</td>\n",
              "      <td>1</td>\n",
              "      <td>Aquatics</td>\n",
              "      <td>Aquatics</td>\n",
              "      <td>1</td>\n",
              "      <td>Swimming</td>\n",
              "      <td>Swimming</td>\n",
              "      <td>1</td>\n",
              "      <td>Women</td>\n",
              "      <td>Women</td>\n",
              "      <td>1</td>\n",
              "      <td>200m backstroke</td>\n",
              "      <td>200m backstroke</td>\n",
              "      <td>1</td>\n",
              "      <td>W</td>\n",
              "      <td>W</td>\n",
              "      <td>1</td>\n",
              "    </tr>\n",
              "    <tr>\n",
              "      <th>Silver</th>\n",
              "      <td>COVENTRY, Kirsty</td>\n",
              "      <td>COVENTRY, Kirsty</td>\n",
              "      <td>3</td>\n",
              "      <td>Beijing</td>\n",
              "      <td>Beijing</td>\n",
              "      <td>3</td>\n",
              "      <td>Aquatics</td>\n",
              "      <td>Aquatics</td>\n",
              "      <td>3</td>\n",
              "      <td>Swimming</td>\n",
              "      <td>Swimming</td>\n",
              "      <td>3</td>\n",
              "      <td>Women</td>\n",
              "      <td>Women</td>\n",
              "      <td>3</td>\n",
              "      <td>100m backstroke</td>\n",
              "      <td>400m individual medley</td>\n",
              "      <td>3</td>\n",
              "      <td>W</td>\n",
              "      <td>W</td>\n",
              "      <td>3</td>\n",
              "    </tr>\n",
              "  </tbody>\n",
              "</table>\n",
              "<p>2356 rows × 21 columns</p>\n",
              "</div>"
            ],
            "text/plain": [
              "                                    Athlete                           ... Event_gender      \n",
              "                                        min                      max  ...          max count\n",
              "Edition NOC Medal                                                     ...                   \n",
              "1896    AUS Gold               FLACK, Edwin             FLACK, Edwin  ...            M     2\n",
              "        AUT Bronze            SCHMAL, Adolf            SCHMAL, Adolf  ...            M     2\n",
              "            Gold              NEUMANN, Paul            SCHMAL, Adolf  ...            M     2\n",
              "            Silver         HERSCHMANN, Otto         HERSCHMANN, Otto  ...            M     1\n",
              "        DEN Bronze            JENSEN, Viggo          NIELSEN, Holger  ...            M     3\n",
              "...                                     ...                      ...  ...          ...   ...\n",
              "2008    UZB Silver        TANGRIEV, Abdullo           TIGIEV, Soslan  ...            M     2\n",
              "        VEN Bronze  CONTRERAS RIVERO, Dalia  CONTRERAS RIVERO, Dalia  ...            W     1\n",
              "        VIE Silver          HOANG, Anh Tuan          HOANG, Anh Tuan  ...            M     1\n",
              "        ZIM Gold           COVENTRY, Kirsty         COVENTRY, Kirsty  ...            W     1\n",
              "            Silver         COVENTRY, Kirsty         COVENTRY, Kirsty  ...            W     3\n",
              "\n",
              "[2356 rows x 21 columns]"
            ]
          },
          "metadata": {},
          "execution_count": 278
        }
      ]
    },
    {
      "cell_type": "code",
      "metadata": {
        "colab": {
          "base_uri": "https://localhost:8080/"
        },
        "id": "OpFqlZs4n_Do",
        "outputId": "c52b7784-46c7-4c04-e753-ae0554c48190"
      },
      "source": [
        "oo.groupby([\"Edition\", \"NOC\", \"Medal\"]).size()"
      ],
      "execution_count": null,
      "outputs": [
        {
          "output_type": "execute_result",
          "data": {
            "text/plain": [
              "Edition  NOC  Medal \n",
              "1896     AUS  Gold      2\n",
              "         AUT  Bronze    2\n",
              "              Gold      2\n",
              "              Silver    1\n",
              "         DEN  Bronze    3\n",
              "                       ..\n",
              "2008     UZB  Silver    2\n",
              "         VEN  Bronze    1\n",
              "         VIE  Silver    1\n",
              "         ZIM  Gold      1\n",
              "              Silver    3\n",
              "Length: 2356, dtype: int64"
            ]
          },
          "metadata": {},
          "execution_count": 279
        }
      ]
    },
    {
      "cell_type": "code",
      "metadata": {
        "colab": {
          "base_uri": "https://localhost:8080/",
          "height": 481
        },
        "id": "owb4Wbt4oGX9",
        "outputId": "74c25844-cde5-4587-ef98-830d4844f1e5"
      },
      "source": [
        "# We are specifying we want these operations done only on specific series\n",
        "# Check out how the columns are multi tiered...\n",
        "oo.groupby([\"Edition\", \"NOC\", \"Medal\"]).agg({\"Edition\": [\"min\", \"max\", \"count\"]})"
      ],
      "execution_count": null,
      "outputs": [
        {
          "output_type": "execute_result",
          "data": {
            "text/html": [
              "<div>\n",
              "<style scoped>\n",
              "    .dataframe tbody tr th:only-of-type {\n",
              "        vertical-align: middle;\n",
              "    }\n",
              "\n",
              "    .dataframe tbody tr th {\n",
              "        vertical-align: top;\n",
              "    }\n",
              "\n",
              "    .dataframe thead tr th {\n",
              "        text-align: left;\n",
              "    }\n",
              "\n",
              "    .dataframe thead tr:last-of-type th {\n",
              "        text-align: right;\n",
              "    }\n",
              "</style>\n",
              "<table border=\"1\" class=\"dataframe\">\n",
              "  <thead>\n",
              "    <tr>\n",
              "      <th></th>\n",
              "      <th></th>\n",
              "      <th></th>\n",
              "      <th colspan=\"3\" halign=\"left\">Edition</th>\n",
              "    </tr>\n",
              "    <tr>\n",
              "      <th></th>\n",
              "      <th></th>\n",
              "      <th></th>\n",
              "      <th>min</th>\n",
              "      <th>max</th>\n",
              "      <th>count</th>\n",
              "    </tr>\n",
              "    <tr>\n",
              "      <th>Edition</th>\n",
              "      <th>NOC</th>\n",
              "      <th>Medal</th>\n",
              "      <th></th>\n",
              "      <th></th>\n",
              "      <th></th>\n",
              "    </tr>\n",
              "  </thead>\n",
              "  <tbody>\n",
              "    <tr>\n",
              "      <th rowspan=\"5\" valign=\"top\">1896</th>\n",
              "      <th>AUS</th>\n",
              "      <th>Gold</th>\n",
              "      <td>1896</td>\n",
              "      <td>1896</td>\n",
              "      <td>2</td>\n",
              "    </tr>\n",
              "    <tr>\n",
              "      <th rowspan=\"3\" valign=\"top\">AUT</th>\n",
              "      <th>Bronze</th>\n",
              "      <td>1896</td>\n",
              "      <td>1896</td>\n",
              "      <td>2</td>\n",
              "    </tr>\n",
              "    <tr>\n",
              "      <th>Gold</th>\n",
              "      <td>1896</td>\n",
              "      <td>1896</td>\n",
              "      <td>2</td>\n",
              "    </tr>\n",
              "    <tr>\n",
              "      <th>Silver</th>\n",
              "      <td>1896</td>\n",
              "      <td>1896</td>\n",
              "      <td>1</td>\n",
              "    </tr>\n",
              "    <tr>\n",
              "      <th>DEN</th>\n",
              "      <th>Bronze</th>\n",
              "      <td>1896</td>\n",
              "      <td>1896</td>\n",
              "      <td>3</td>\n",
              "    </tr>\n",
              "    <tr>\n",
              "      <th>...</th>\n",
              "      <th>...</th>\n",
              "      <th>...</th>\n",
              "      <td>...</td>\n",
              "      <td>...</td>\n",
              "      <td>...</td>\n",
              "    </tr>\n",
              "    <tr>\n",
              "      <th rowspan=\"5\" valign=\"top\">2008</th>\n",
              "      <th>UZB</th>\n",
              "      <th>Silver</th>\n",
              "      <td>2008</td>\n",
              "      <td>2008</td>\n",
              "      <td>2</td>\n",
              "    </tr>\n",
              "    <tr>\n",
              "      <th>VEN</th>\n",
              "      <th>Bronze</th>\n",
              "      <td>2008</td>\n",
              "      <td>2008</td>\n",
              "      <td>1</td>\n",
              "    </tr>\n",
              "    <tr>\n",
              "      <th>VIE</th>\n",
              "      <th>Silver</th>\n",
              "      <td>2008</td>\n",
              "      <td>2008</td>\n",
              "      <td>1</td>\n",
              "    </tr>\n",
              "    <tr>\n",
              "      <th rowspan=\"2\" valign=\"top\">ZIM</th>\n",
              "      <th>Gold</th>\n",
              "      <td>2008</td>\n",
              "      <td>2008</td>\n",
              "      <td>1</td>\n",
              "    </tr>\n",
              "    <tr>\n",
              "      <th>Silver</th>\n",
              "      <td>2008</td>\n",
              "      <td>2008</td>\n",
              "      <td>3</td>\n",
              "    </tr>\n",
              "  </tbody>\n",
              "</table>\n",
              "<p>2356 rows × 3 columns</p>\n",
              "</div>"
            ],
            "text/plain": [
              "                   Edition            \n",
              "                       min   max count\n",
              "Edition NOC Medal                     \n",
              "1896    AUS Gold      1896  1896     2\n",
              "        AUT Bronze    1896  1896     2\n",
              "            Gold      1896  1896     2\n",
              "            Silver    1896  1896     1\n",
              "        DEN Bronze    1896  1896     3\n",
              "...                    ...   ...   ...\n",
              "2008    UZB Silver    2008  2008     2\n",
              "        VEN Bronze    2008  2008     1\n",
              "        VIE Silver    2008  2008     1\n",
              "        ZIM Gold      2008  2008     1\n",
              "            Silver    2008  2008     3\n",
              "\n",
              "[2356 rows x 3 columns]"
            ]
          },
          "metadata": {},
          "execution_count": 280
        }
      ]
    },
    {
      "cell_type": "code",
      "metadata": {
        "colab": {
          "base_uri": "https://localhost:8080/",
          "height": 142
        },
        "id": "C8WBGa-_oudv",
        "outputId": "2f4697cb-f032-4b5f-ddac-f1ba20bec452"
      },
      "source": [
        "# This is actually pretty neat\n",
        "# It's getting the first year and last year this specific guy got a medal, and then the count of all medals\n",
        "oo[oo.Athlete == \"LEWIS, Carl\"].groupby(\"Athlete\").agg({\"Edition\": [\"min\", \"max\", \"count\"]})"
      ],
      "execution_count": null,
      "outputs": [
        {
          "output_type": "execute_result",
          "data": {
            "text/html": [
              "<div>\n",
              "<style scoped>\n",
              "    .dataframe tbody tr th:only-of-type {\n",
              "        vertical-align: middle;\n",
              "    }\n",
              "\n",
              "    .dataframe tbody tr th {\n",
              "        vertical-align: top;\n",
              "    }\n",
              "\n",
              "    .dataframe thead tr th {\n",
              "        text-align: left;\n",
              "    }\n",
              "\n",
              "    .dataframe thead tr:last-of-type th {\n",
              "        text-align: right;\n",
              "    }\n",
              "</style>\n",
              "<table border=\"1\" class=\"dataframe\">\n",
              "  <thead>\n",
              "    <tr>\n",
              "      <th></th>\n",
              "      <th colspan=\"3\" halign=\"left\">Edition</th>\n",
              "    </tr>\n",
              "    <tr>\n",
              "      <th></th>\n",
              "      <th>min</th>\n",
              "      <th>max</th>\n",
              "      <th>count</th>\n",
              "    </tr>\n",
              "    <tr>\n",
              "      <th>Athlete</th>\n",
              "      <th></th>\n",
              "      <th></th>\n",
              "      <th></th>\n",
              "    </tr>\n",
              "  </thead>\n",
              "  <tbody>\n",
              "    <tr>\n",
              "      <th>LEWIS, Carl</th>\n",
              "      <td>1984</td>\n",
              "      <td>1996</td>\n",
              "      <td>10</td>\n",
              "    </tr>\n",
              "  </tbody>\n",
              "</table>\n",
              "</div>"
            ],
            "text/plain": [
              "            Edition            \n",
              "                min   max count\n",
              "Athlete                        \n",
              "LEWIS, Carl    1984  1996    10"
            ]
          },
          "metadata": {},
          "execution_count": 281
        }
      ]
    },
    {
      "cell_type": "markdown",
      "metadata": {
        "id": "4zBqbrn-pO--"
      },
      "source": [
        "# Reshaping"
      ]
    },
    {
      "cell_type": "code",
      "metadata": {
        "colab": {
          "base_uri": "https://localhost:8080/",
          "height": 421
        },
        "id": "s_gIp5aNpP82",
        "outputId": "96eb50c6-64bc-4e8f-ac15-41ca37854023"
      },
      "source": [
        "# Get all medals from 2008 olympics from 100m and 200m\n",
        "mw = oo[(oo.Edition == 2008) & ( (oo.Event == \"100m\") | (oo.Event == \"200m\") )]\n",
        "mw"
      ],
      "execution_count": null,
      "outputs": [
        {
          "output_type": "execute_result",
          "data": {
            "text/html": [
              "<div>\n",
              "<style scoped>\n",
              "    .dataframe tbody tr th:only-of-type {\n",
              "        vertical-align: middle;\n",
              "    }\n",
              "\n",
              "    .dataframe tbody tr th {\n",
              "        vertical-align: top;\n",
              "    }\n",
              "\n",
              "    .dataframe thead th {\n",
              "        text-align: right;\n",
              "    }\n",
              "</style>\n",
              "<table border=\"1\" class=\"dataframe\">\n",
              "  <thead>\n",
              "    <tr style=\"text-align: right;\">\n",
              "      <th></th>\n",
              "      <th>Athlete</th>\n",
              "      <th>City</th>\n",
              "      <th>Edition</th>\n",
              "      <th>Sport</th>\n",
              "      <th>Discipline</th>\n",
              "      <th>NOC</th>\n",
              "      <th>Gender</th>\n",
              "      <th>Event</th>\n",
              "      <th>Event_gender</th>\n",
              "      <th>Medal</th>\n",
              "    </tr>\n",
              "  </thead>\n",
              "  <tbody>\n",
              "    <tr>\n",
              "      <th>27551</th>\n",
              "      <td>DIX, Walter</td>\n",
              "      <td>Beijing</td>\n",
              "      <td>2008</td>\n",
              "      <td>Athletics</td>\n",
              "      <td>Athletics</td>\n",
              "      <td>USA</td>\n",
              "      <td>Men</td>\n",
              "      <td>100m</td>\n",
              "      <td>M</td>\n",
              "      <td>Bronze</td>\n",
              "    </tr>\n",
              "    <tr>\n",
              "      <th>27552</th>\n",
              "      <td>BOLT, Usain</td>\n",
              "      <td>Beijing</td>\n",
              "      <td>2008</td>\n",
              "      <td>Athletics</td>\n",
              "      <td>Athletics</td>\n",
              "      <td>JAM</td>\n",
              "      <td>Men</td>\n",
              "      <td>100m</td>\n",
              "      <td>M</td>\n",
              "      <td>Gold</td>\n",
              "    </tr>\n",
              "    <tr>\n",
              "      <th>27553</th>\n",
              "      <td>THOMPSON, Richard</td>\n",
              "      <td>Beijing</td>\n",
              "      <td>2008</td>\n",
              "      <td>Athletics</td>\n",
              "      <td>Athletics</td>\n",
              "      <td>TRI</td>\n",
              "      <td>Men</td>\n",
              "      <td>100m</td>\n",
              "      <td>M</td>\n",
              "      <td>Silver</td>\n",
              "    </tr>\n",
              "    <tr>\n",
              "      <th>27554</th>\n",
              "      <td>FRASER, Shelly-ann</td>\n",
              "      <td>Beijing</td>\n",
              "      <td>2008</td>\n",
              "      <td>Athletics</td>\n",
              "      <td>Athletics</td>\n",
              "      <td>JAM</td>\n",
              "      <td>Women</td>\n",
              "      <td>100m</td>\n",
              "      <td>W</td>\n",
              "      <td>Gold</td>\n",
              "    </tr>\n",
              "    <tr>\n",
              "      <th>27555</th>\n",
              "      <td>SIMPSON, Sherone</td>\n",
              "      <td>Beijing</td>\n",
              "      <td>2008</td>\n",
              "      <td>Athletics</td>\n",
              "      <td>Athletics</td>\n",
              "      <td>JAM</td>\n",
              "      <td>Women</td>\n",
              "      <td>100m</td>\n",
              "      <td>W</td>\n",
              "      <td>Silver</td>\n",
              "    </tr>\n",
              "    <tr>\n",
              "      <th>27556</th>\n",
              "      <td>STEWART, Kerron</td>\n",
              "      <td>Beijing</td>\n",
              "      <td>2008</td>\n",
              "      <td>Athletics</td>\n",
              "      <td>Athletics</td>\n",
              "      <td>JAM</td>\n",
              "      <td>Women</td>\n",
              "      <td>100m</td>\n",
              "      <td>W</td>\n",
              "      <td>Silver</td>\n",
              "    </tr>\n",
              "    <tr>\n",
              "      <th>27569</th>\n",
              "      <td>DIX, Walter</td>\n",
              "      <td>Beijing</td>\n",
              "      <td>2008</td>\n",
              "      <td>Athletics</td>\n",
              "      <td>Athletics</td>\n",
              "      <td>USA</td>\n",
              "      <td>Men</td>\n",
              "      <td>200m</td>\n",
              "      <td>M</td>\n",
              "      <td>Bronze</td>\n",
              "    </tr>\n",
              "    <tr>\n",
              "      <th>27570</th>\n",
              "      <td>BOLT, Usain</td>\n",
              "      <td>Beijing</td>\n",
              "      <td>2008</td>\n",
              "      <td>Athletics</td>\n",
              "      <td>Athletics</td>\n",
              "      <td>JAM</td>\n",
              "      <td>Men</td>\n",
              "      <td>200m</td>\n",
              "      <td>M</td>\n",
              "      <td>Gold</td>\n",
              "    </tr>\n",
              "    <tr>\n",
              "      <th>27571</th>\n",
              "      <td>CRAWFORD, Shawn</td>\n",
              "      <td>Beijing</td>\n",
              "      <td>2008</td>\n",
              "      <td>Athletics</td>\n",
              "      <td>Athletics</td>\n",
              "      <td>USA</td>\n",
              "      <td>Men</td>\n",
              "      <td>200m</td>\n",
              "      <td>M</td>\n",
              "      <td>Silver</td>\n",
              "    </tr>\n",
              "    <tr>\n",
              "      <th>27572</th>\n",
              "      <td>STEWART, Kerron</td>\n",
              "      <td>Beijing</td>\n",
              "      <td>2008</td>\n",
              "      <td>Athletics</td>\n",
              "      <td>Athletics</td>\n",
              "      <td>JAM</td>\n",
              "      <td>Women</td>\n",
              "      <td>200m</td>\n",
              "      <td>W</td>\n",
              "      <td>Bronze</td>\n",
              "    </tr>\n",
              "    <tr>\n",
              "      <th>27573</th>\n",
              "      <td>CAMPBELL-BROWN, Veronica</td>\n",
              "      <td>Beijing</td>\n",
              "      <td>2008</td>\n",
              "      <td>Athletics</td>\n",
              "      <td>Athletics</td>\n",
              "      <td>JAM</td>\n",
              "      <td>Women</td>\n",
              "      <td>200m</td>\n",
              "      <td>W</td>\n",
              "      <td>Gold</td>\n",
              "    </tr>\n",
              "    <tr>\n",
              "      <th>27574</th>\n",
              "      <td>FELIX, Allyson</td>\n",
              "      <td>Beijing</td>\n",
              "      <td>2008</td>\n",
              "      <td>Athletics</td>\n",
              "      <td>Athletics</td>\n",
              "      <td>USA</td>\n",
              "      <td>Women</td>\n",
              "      <td>200m</td>\n",
              "      <td>W</td>\n",
              "      <td>Silver</td>\n",
              "    </tr>\n",
              "  </tbody>\n",
              "</table>\n",
              "</div>"
            ],
            "text/plain": [
              "                        Athlete     City  Edition  ... Event Event_gender   Medal\n",
              "27551               DIX, Walter  Beijing     2008  ...  100m            M  Bronze\n",
              "27552               BOLT, Usain  Beijing     2008  ...  100m            M    Gold\n",
              "27553         THOMPSON, Richard  Beijing     2008  ...  100m            M  Silver\n",
              "27554        FRASER, Shelly-ann  Beijing     2008  ...  100m            W    Gold\n",
              "27555          SIMPSON, Sherone  Beijing     2008  ...  100m            W  Silver\n",
              "27556           STEWART, Kerron  Beijing     2008  ...  100m            W  Silver\n",
              "27569               DIX, Walter  Beijing     2008  ...  200m            M  Bronze\n",
              "27570               BOLT, Usain  Beijing     2008  ...  200m            M    Gold\n",
              "27571           CRAWFORD, Shawn  Beijing     2008  ...  200m            M  Silver\n",
              "27572           STEWART, Kerron  Beijing     2008  ...  200m            W  Bronze\n",
              "27573  CAMPBELL-BROWN, Veronica  Beijing     2008  ...  200m            W    Gold\n",
              "27574            FELIX, Allyson  Beijing     2008  ...  200m            W  Silver\n",
              "\n",
              "[12 rows x 10 columns]"
            ]
          },
          "metadata": {},
          "execution_count": 282
        }
      ]
    },
    {
      "cell_type": "code",
      "metadata": {
        "colab": {
          "base_uri": "https://localhost:8080/"
        },
        "id": "whcHGeEKpL5e",
        "outputId": "2f45557e-82d3-449b-f439-e46a7040047d"
      },
      "source": [
        "g = mw.groupby([\"NOC\", \"Gender\", \"Discipline\", \"Event\"]).size()\n",
        "g"
      ],
      "execution_count": null,
      "outputs": [
        {
          "output_type": "execute_result",
          "data": {
            "text/plain": [
              "NOC  Gender  Discipline  Event\n",
              "JAM  Men     Athletics   100m     1\n",
              "                         200m     1\n",
              "     Women   Athletics   100m     3\n",
              "                         200m     2\n",
              "TRI  Men     Athletics   100m     1\n",
              "USA  Men     Athletics   100m     1\n",
              "                         200m     2\n",
              "     Women   Athletics   200m     1\n",
              "dtype: int64"
            ]
          },
          "metadata": {},
          "execution_count": 283
        }
      ]
    },
    {
      "cell_type": "code",
      "metadata": {
        "colab": {
          "base_uri": "https://localhost:8080/",
          "height": 266
        },
        "id": "4sT2xHHuqBmM",
        "outputId": "17e39b85-7742-449e-c1d4-7753ef29f135"
      },
      "source": [
        "# Dont worry, this is just prep\n",
        "df = g.unstack([\"Discipline\", \"Event\"])\n",
        "df"
      ],
      "execution_count": null,
      "outputs": [
        {
          "output_type": "execute_result",
          "data": {
            "text/html": [
              "<div>\n",
              "<style scoped>\n",
              "    .dataframe tbody tr th:only-of-type {\n",
              "        vertical-align: middle;\n",
              "    }\n",
              "\n",
              "    .dataframe tbody tr th {\n",
              "        vertical-align: top;\n",
              "    }\n",
              "\n",
              "    .dataframe thead tr th {\n",
              "        text-align: left;\n",
              "    }\n",
              "\n",
              "    .dataframe thead tr:last-of-type th {\n",
              "        text-align: right;\n",
              "    }\n",
              "</style>\n",
              "<table border=\"1\" class=\"dataframe\">\n",
              "  <thead>\n",
              "    <tr>\n",
              "      <th></th>\n",
              "      <th>Discipline</th>\n",
              "      <th colspan=\"2\" halign=\"left\">Athletics</th>\n",
              "    </tr>\n",
              "    <tr>\n",
              "      <th></th>\n",
              "      <th>Event</th>\n",
              "      <th>100m</th>\n",
              "      <th>200m</th>\n",
              "    </tr>\n",
              "    <tr>\n",
              "      <th>NOC</th>\n",
              "      <th>Gender</th>\n",
              "      <th></th>\n",
              "      <th></th>\n",
              "    </tr>\n",
              "  </thead>\n",
              "  <tbody>\n",
              "    <tr>\n",
              "      <th rowspan=\"2\" valign=\"top\">JAM</th>\n",
              "      <th>Men</th>\n",
              "      <td>1.0</td>\n",
              "      <td>1.0</td>\n",
              "    </tr>\n",
              "    <tr>\n",
              "      <th>Women</th>\n",
              "      <td>3.0</td>\n",
              "      <td>2.0</td>\n",
              "    </tr>\n",
              "    <tr>\n",
              "      <th>TRI</th>\n",
              "      <th>Men</th>\n",
              "      <td>1.0</td>\n",
              "      <td>NaN</td>\n",
              "    </tr>\n",
              "    <tr>\n",
              "      <th rowspan=\"2\" valign=\"top\">USA</th>\n",
              "      <th>Men</th>\n",
              "      <td>1.0</td>\n",
              "      <td>2.0</td>\n",
              "    </tr>\n",
              "    <tr>\n",
              "      <th>Women</th>\n",
              "      <td>NaN</td>\n",
              "      <td>1.0</td>\n",
              "    </tr>\n",
              "  </tbody>\n",
              "</table>\n",
              "</div>"
            ],
            "text/plain": [
              "Discipline Athletics     \n",
              "Event           100m 200m\n",
              "NOC Gender               \n",
              "JAM Men          1.0  1.0\n",
              "    Women        3.0  2.0\n",
              "TRI Men          1.0  NaN\n",
              "USA Men          1.0  2.0\n",
              "    Women        NaN  1.0"
            ]
          },
          "metadata": {},
          "execution_count": 284
        }
      ]
    },
    {
      "cell_type": "markdown",
      "metadata": {
        "id": "te94FXlRpQgk"
      },
      "source": [
        "## stack()\n",
        "\n",
        "The inner levels of a stack is sorted\n",
        "\n",
        "returning a \n",
        "\"If I want to make a dataframe taller, I want stack\"\n",
        "It's kinda like collapsing multiple columns into a single column  \n",
        "  However, it's operating on multi tier columns, so this is a little weird"
      ]
    },
    {
      "cell_type": "code",
      "metadata": {
        "colab": {
          "base_uri": "https://localhost:8080/",
          "height": 328
        },
        "id": "rli44yFeqSvC",
        "outputId": "69f43269-3f03-4b48-de22-4e552db0b05e"
      },
      "source": [
        "df.stack(\"Event\")"
      ],
      "execution_count": null,
      "outputs": [
        {
          "output_type": "execute_result",
          "data": {
            "text/html": [
              "<div>\n",
              "<style scoped>\n",
              "    .dataframe tbody tr th:only-of-type {\n",
              "        vertical-align: middle;\n",
              "    }\n",
              "\n",
              "    .dataframe tbody tr th {\n",
              "        vertical-align: top;\n",
              "    }\n",
              "\n",
              "    .dataframe thead th {\n",
              "        text-align: right;\n",
              "    }\n",
              "</style>\n",
              "<table border=\"1\" class=\"dataframe\">\n",
              "  <thead>\n",
              "    <tr style=\"text-align: right;\">\n",
              "      <th></th>\n",
              "      <th></th>\n",
              "      <th>Discipline</th>\n",
              "      <th>Athletics</th>\n",
              "    </tr>\n",
              "    <tr>\n",
              "      <th>NOC</th>\n",
              "      <th>Gender</th>\n",
              "      <th>Event</th>\n",
              "      <th></th>\n",
              "    </tr>\n",
              "  </thead>\n",
              "  <tbody>\n",
              "    <tr>\n",
              "      <th rowspan=\"4\" valign=\"top\">JAM</th>\n",
              "      <th rowspan=\"2\" valign=\"top\">Men</th>\n",
              "      <th>100m</th>\n",
              "      <td>1.0</td>\n",
              "    </tr>\n",
              "    <tr>\n",
              "      <th>200m</th>\n",
              "      <td>1.0</td>\n",
              "    </tr>\n",
              "    <tr>\n",
              "      <th rowspan=\"2\" valign=\"top\">Women</th>\n",
              "      <th>100m</th>\n",
              "      <td>3.0</td>\n",
              "    </tr>\n",
              "    <tr>\n",
              "      <th>200m</th>\n",
              "      <td>2.0</td>\n",
              "    </tr>\n",
              "    <tr>\n",
              "      <th>TRI</th>\n",
              "      <th>Men</th>\n",
              "      <th>100m</th>\n",
              "      <td>1.0</td>\n",
              "    </tr>\n",
              "    <tr>\n",
              "      <th rowspan=\"3\" valign=\"top\">USA</th>\n",
              "      <th rowspan=\"2\" valign=\"top\">Men</th>\n",
              "      <th>100m</th>\n",
              "      <td>1.0</td>\n",
              "    </tr>\n",
              "    <tr>\n",
              "      <th>200m</th>\n",
              "      <td>2.0</td>\n",
              "    </tr>\n",
              "    <tr>\n",
              "      <th>Women</th>\n",
              "      <th>200m</th>\n",
              "      <td>1.0</td>\n",
              "    </tr>\n",
              "  </tbody>\n",
              "</table>\n",
              "</div>"
            ],
            "text/plain": [
              "Discipline        Athletics\n",
              "NOC Gender Event           \n",
              "JAM Men    100m         1.0\n",
              "           200m         1.0\n",
              "    Women  100m         3.0\n",
              "           200m         2.0\n",
              "TRI Men    100m         1.0\n",
              "USA Men    100m         1.0\n",
              "           200m         2.0\n",
              "    Women  200m         1.0"
            ]
          },
          "metadata": {},
          "execution_count": 285
        }
      ]
    },
    {
      "cell_type": "markdown",
      "metadata": {
        "id": "GShABJi0rXaw"
      },
      "source": [
        "## unstack()"
      ]
    },
    {
      "cell_type": "code",
      "metadata": {
        "colab": {
          "base_uri": "https://localhost:8080/",
          "height": 266
        },
        "id": "iNYBCMSXrY1A",
        "outputId": "153b31a7-d8e1-44bd-8e7c-c739a095b699"
      },
      "source": [
        "df"
      ],
      "execution_count": null,
      "outputs": [
        {
          "output_type": "execute_result",
          "data": {
            "text/html": [
              "<div>\n",
              "<style scoped>\n",
              "    .dataframe tbody tr th:only-of-type {\n",
              "        vertical-align: middle;\n",
              "    }\n",
              "\n",
              "    .dataframe tbody tr th {\n",
              "        vertical-align: top;\n",
              "    }\n",
              "\n",
              "    .dataframe thead tr th {\n",
              "        text-align: left;\n",
              "    }\n",
              "\n",
              "    .dataframe thead tr:last-of-type th {\n",
              "        text-align: right;\n",
              "    }\n",
              "</style>\n",
              "<table border=\"1\" class=\"dataframe\">\n",
              "  <thead>\n",
              "    <tr>\n",
              "      <th></th>\n",
              "      <th>Discipline</th>\n",
              "      <th colspan=\"2\" halign=\"left\">Athletics</th>\n",
              "    </tr>\n",
              "    <tr>\n",
              "      <th></th>\n",
              "      <th>Event</th>\n",
              "      <th>100m</th>\n",
              "      <th>200m</th>\n",
              "    </tr>\n",
              "    <tr>\n",
              "      <th>NOC</th>\n",
              "      <th>Gender</th>\n",
              "      <th></th>\n",
              "      <th></th>\n",
              "    </tr>\n",
              "  </thead>\n",
              "  <tbody>\n",
              "    <tr>\n",
              "      <th rowspan=\"2\" valign=\"top\">JAM</th>\n",
              "      <th>Men</th>\n",
              "      <td>1.0</td>\n",
              "      <td>1.0</td>\n",
              "    </tr>\n",
              "    <tr>\n",
              "      <th>Women</th>\n",
              "      <td>3.0</td>\n",
              "      <td>2.0</td>\n",
              "    </tr>\n",
              "    <tr>\n",
              "      <th>TRI</th>\n",
              "      <th>Men</th>\n",
              "      <td>1.0</td>\n",
              "      <td>NaN</td>\n",
              "    </tr>\n",
              "    <tr>\n",
              "      <th rowspan=\"2\" valign=\"top\">USA</th>\n",
              "      <th>Men</th>\n",
              "      <td>1.0</td>\n",
              "      <td>2.0</td>\n",
              "    </tr>\n",
              "    <tr>\n",
              "      <th>Women</th>\n",
              "      <td>NaN</td>\n",
              "      <td>1.0</td>\n",
              "    </tr>\n",
              "  </tbody>\n",
              "</table>\n",
              "</div>"
            ],
            "text/plain": [
              "Discipline Athletics     \n",
              "Event           100m 200m\n",
              "NOC Gender               \n",
              "JAM Men          1.0  1.0\n",
              "    Women        3.0  2.0\n",
              "TRI Men          1.0  NaN\n",
              "USA Men          1.0  2.0\n",
              "    Women        NaN  1.0"
            ]
          },
          "metadata": {},
          "execution_count": 286
        }
      ]
    },
    {
      "cell_type": "code",
      "metadata": {
        "colab": {
          "base_uri": "https://localhost:8080/",
          "height": 235
        },
        "id": "AdVpYdbMri8N",
        "outputId": "5142de05-151c-45a2-c325-8e6125a915a6"
      },
      "source": [
        "df.unstack(\"Gender\")"
      ],
      "execution_count": null,
      "outputs": [
        {
          "output_type": "execute_result",
          "data": {
            "text/html": [
              "<div>\n",
              "<style scoped>\n",
              "    .dataframe tbody tr th:only-of-type {\n",
              "        vertical-align: middle;\n",
              "    }\n",
              "\n",
              "    .dataframe tbody tr th {\n",
              "        vertical-align: top;\n",
              "    }\n",
              "\n",
              "    .dataframe thead tr th {\n",
              "        text-align: left;\n",
              "    }\n",
              "\n",
              "    .dataframe thead tr:last-of-type th {\n",
              "        text-align: right;\n",
              "    }\n",
              "</style>\n",
              "<table border=\"1\" class=\"dataframe\">\n",
              "  <thead>\n",
              "    <tr>\n",
              "      <th>Discipline</th>\n",
              "      <th colspan=\"4\" halign=\"left\">Athletics</th>\n",
              "    </tr>\n",
              "    <tr>\n",
              "      <th>Event</th>\n",
              "      <th colspan=\"2\" halign=\"left\">100m</th>\n",
              "      <th colspan=\"2\" halign=\"left\">200m</th>\n",
              "    </tr>\n",
              "    <tr>\n",
              "      <th>Gender</th>\n",
              "      <th>Men</th>\n",
              "      <th>Women</th>\n",
              "      <th>Men</th>\n",
              "      <th>Women</th>\n",
              "    </tr>\n",
              "    <tr>\n",
              "      <th>NOC</th>\n",
              "      <th></th>\n",
              "      <th></th>\n",
              "      <th></th>\n",
              "      <th></th>\n",
              "    </tr>\n",
              "  </thead>\n",
              "  <tbody>\n",
              "    <tr>\n",
              "      <th>JAM</th>\n",
              "      <td>1.0</td>\n",
              "      <td>3.0</td>\n",
              "      <td>1.0</td>\n",
              "      <td>2.0</td>\n",
              "    </tr>\n",
              "    <tr>\n",
              "      <th>TRI</th>\n",
              "      <td>1.0</td>\n",
              "      <td>NaN</td>\n",
              "      <td>NaN</td>\n",
              "      <td>NaN</td>\n",
              "    </tr>\n",
              "    <tr>\n",
              "      <th>USA</th>\n",
              "      <td>1.0</td>\n",
              "      <td>NaN</td>\n",
              "      <td>2.0</td>\n",
              "      <td>1.0</td>\n",
              "    </tr>\n",
              "  </tbody>\n",
              "</table>\n",
              "</div>"
            ],
            "text/plain": [
              "Discipline Athletics                 \n",
              "Event           100m       200m      \n",
              "Gender           Men Women  Men Women\n",
              "NOC                                  \n",
              "JAM              1.0   3.0  1.0   2.0\n",
              "TRI              1.0   NaN  NaN   NaN\n",
              "USA              1.0   NaN  2.0   1.0"
            ]
          },
          "metadata": {},
          "execution_count": 287
        }
      ]
    },
    {
      "cell_type": "markdown",
      "metadata": {
        "id": "gTs-QeW1rz4K"
      },
      "source": [
        "## Challenge\n",
        "Plot the number of gold medals won by the US male and female athletes throughout the history of the Olympics"
      ]
    },
    {
      "cell_type": "code",
      "metadata": {
        "colab": {
          "base_uri": "https://localhost:8080/"
        },
        "id": "RoqC15Xdr6PU",
        "outputId": "d85158f3-6402-4ea7-e0f9-6ec007759894"
      },
      "source": [
        "df = oo[oo.NOC == \"USA\"].groupby([\"Edition\", \"Gender\"]).size()\n",
        "print(type(df)) # Note that it's a series\n",
        "df.head(3)"
      ],
      "execution_count": null,
      "outputs": [
        {
          "output_type": "stream",
          "name": "stdout",
          "text": [
            "<class 'pandas.core.series.Series'>\n"
          ]
        },
        {
          "output_type": "execute_result",
          "data": {
            "text/plain": [
              "Edition  Gender\n",
              "1896     Men       20\n",
              "1900     Men       51\n",
              "         Women      4\n",
              "dtype: int64"
            ]
          },
          "metadata": {},
          "execution_count": 288
        }
      ]
    },
    {
      "cell_type": "markdown",
      "metadata": {
        "id": "0V4v42eUsuwv"
      },
      "source": [
        "So why is that a series??"
      ]
    },
    {
      "cell_type": "code",
      "metadata": {
        "colab": {
          "base_uri": "https://localhost:8080/"
        },
        "id": "M3xbISjftGt_",
        "outputId": "fa27d62b-0a64-44a3-d23f-ca8bdf40baf0"
      },
      "source": [
        "# It's a multiindex series! And that's why graphing it fucks it up\n",
        "df.index"
      ],
      "execution_count": null,
      "outputs": [
        {
          "output_type": "execute_result",
          "data": {
            "text/plain": [
              "MultiIndex([(1896,   'Men'),\n",
              "            (1900,   'Men'),\n",
              "            (1900, 'Women'),\n",
              "            (1904,   'Men'),\n",
              "            (1904, 'Women'),\n",
              "            (1908,   'Men'),\n",
              "            (1912,   'Men'),\n",
              "            (1920,   'Men'),\n",
              "            (1920, 'Women'),\n",
              "            (1924,   'Men'),\n",
              "            (1924, 'Women'),\n",
              "            (1928,   'Men'),\n",
              "            (1928, 'Women'),\n",
              "            (1932,   'Men'),\n",
              "            (1932, 'Women'),\n",
              "            (1936,   'Men'),\n",
              "            (1936, 'Women'),\n",
              "            (1948,   'Men'),\n",
              "            (1948, 'Women'),\n",
              "            (1952,   'Men'),\n",
              "            (1952, 'Women'),\n",
              "            (1956,   'Men'),\n",
              "            (1956, 'Women'),\n",
              "            (1960,   'Men'),\n",
              "            (1960, 'Women'),\n",
              "            (1964,   'Men'),\n",
              "            (1964, 'Women'),\n",
              "            (1968,   'Men'),\n",
              "            (1968, 'Women'),\n",
              "            (1972,   'Men'),\n",
              "            (1972, 'Women'),\n",
              "            (1976,   'Men'),\n",
              "            (1976, 'Women'),\n",
              "            (1984,   'Men'),\n",
              "            (1984, 'Women'),\n",
              "            (1988,   'Men'),\n",
              "            (1988, 'Women'),\n",
              "            (1992,   'Men'),\n",
              "            (1992, 'Women'),\n",
              "            (1996,   'Men'),\n",
              "            (1996, 'Women'),\n",
              "            (2000,   'Men'),\n",
              "            (2000, 'Women'),\n",
              "            (2004,   'Men'),\n",
              "            (2004, 'Women'),\n",
              "            (2008,   'Men'),\n",
              "            (2008, 'Women')],\n",
              "           names=['Edition', 'Gender'])"
            ]
          },
          "metadata": {},
          "execution_count": 289
        }
      ]
    },
    {
      "cell_type": "code",
      "metadata": {
        "colab": {
          "base_uri": "https://localhost:8080/",
          "height": 400
        },
        "id": "9O3sTOBxscxA",
        "outputId": "3cb96ce5-d641-42e6-dd94-bb6c793ca3ec"
      },
      "source": [
        "df = df.unstack(\"Gender\")\n",
        "print(df.head(3))\n",
        "df.plot(kind=\"bar\")"
      ],
      "execution_count": null,
      "outputs": [
        {
          "output_type": "stream",
          "name": "stdout",
          "text": [
            "Gender     Men  Women\n",
            "Edition              \n",
            "1896      20.0    NaN\n",
            "1900      51.0    4.0\n",
            "1904     382.0   12.0\n"
          ]
        },
        {
          "output_type": "execute_result",
          "data": {
            "text/plain": [
              "<matplotlib.axes._subplots.AxesSubplot at 0x7f8a280ebb50>"
            ]
          },
          "metadata": {},
          "execution_count": 290
        },
        {
          "output_type": "display_data",
          "data": {
            "image/png": "[encoded data removed]",
            "text/plain": [
              "<Figure size 432x288 with 1 Axes>"
            ]
          },
          "metadata": {
            "needs_background": "light"
          }
        }
      ]
    },
    {
      "cell_type": "markdown",
      "metadata": {
        "id": "IV1ovB7QtbBE"
      },
      "source": [
        "# Data Visualization"
      ]
    },
    {
      "cell_type": "markdown",
      "metadata": {
        "id": "D4HKMvjpte3c"
      },
      "source": [
        "## heatmaps"
      ]
    },
    {
      "cell_type": "code",
      "metadata": {
        "colab": {
          "base_uri": "https://localhost:8080/",
          "height": 142
        },
        "id": "jtcJc0qvtglk",
        "outputId": "7f7342b4-6d08-4d8c-ffd2-d2661b732704"
      },
      "source": [
        "lo = oo[oo.Edition == 2008]\n",
        "lo.head(3)"
      ],
      "execution_count": null,
      "outputs": [
        {
          "output_type": "execute_result",
          "data": {
            "text/html": [
              "<div>\n",
              "<style scoped>\n",
              "    .dataframe tbody tr th:only-of-type {\n",
              "        vertical-align: middle;\n",
              "    }\n",
              "\n",
              "    .dataframe tbody tr th {\n",
              "        vertical-align: top;\n",
              "    }\n",
              "\n",
              "    .dataframe thead th {\n",
              "        text-align: right;\n",
              "    }\n",
              "</style>\n",
              "<table border=\"1\" class=\"dataframe\">\n",
              "  <thead>\n",
              "    <tr style=\"text-align: right;\">\n",
              "      <th></th>\n",
              "      <th>Athlete</th>\n",
              "      <th>City</th>\n",
              "      <th>Edition</th>\n",
              "      <th>Sport</th>\n",
              "      <th>Discipline</th>\n",
              "      <th>NOC</th>\n",
              "      <th>Gender</th>\n",
              "      <th>Event</th>\n",
              "      <th>Event_gender</th>\n",
              "      <th>Medal</th>\n",
              "    </tr>\n",
              "  </thead>\n",
              "  <tbody>\n",
              "    <tr>\n",
              "      <th>27174</th>\n",
              "      <td>GALPERIN, Gleb</td>\n",
              "      <td>Beijing</td>\n",
              "      <td>2008</td>\n",
              "      <td>Aquatics</td>\n",
              "      <td>Diving</td>\n",
              "      <td>RUS</td>\n",
              "      <td>Men</td>\n",
              "      <td>10m platform</td>\n",
              "      <td>M</td>\n",
              "      <td>Bronze</td>\n",
              "    </tr>\n",
              "    <tr>\n",
              "      <th>27175</th>\n",
              "      <td>MITCHAM, Matthew</td>\n",
              "      <td>Beijing</td>\n",
              "      <td>2008</td>\n",
              "      <td>Aquatics</td>\n",
              "      <td>Diving</td>\n",
              "      <td>AUS</td>\n",
              "      <td>Men</td>\n",
              "      <td>10m platform</td>\n",
              "      <td>M</td>\n",
              "      <td>Gold</td>\n",
              "    </tr>\n",
              "    <tr>\n",
              "      <th>27176</th>\n",
              "      <td>ZHOU, Luxin</td>\n",
              "      <td>Beijing</td>\n",
              "      <td>2008</td>\n",
              "      <td>Aquatics</td>\n",
              "      <td>Diving</td>\n",
              "      <td>CHN</td>\n",
              "      <td>Men</td>\n",
              "      <td>10m platform</td>\n",
              "      <td>M</td>\n",
              "      <td>Silver</td>\n",
              "    </tr>\n",
              "  </tbody>\n",
              "</table>\n",
              "</div>"
            ],
            "text/plain": [
              "                Athlete     City  Edition  ...         Event Event_gender   Medal\n",
              "27174    GALPERIN, Gleb  Beijing     2008  ...  10m platform            M  Bronze\n",
              "27175  MITCHAM, Matthew  Beijing     2008  ...  10m platform            M    Gold\n",
              "27176       ZHOU, Luxin  Beijing     2008  ...  10m platform            M  Silver\n",
              "\n",
              "[3 rows x 10 columns]"
            ]
          },
          "metadata": {},
          "execution_count": 291
        }
      ]
    },
    {
      "cell_type": "code",
      "metadata": {
        "colab": {
          "base_uri": "https://localhost:8080/"
        },
        "id": "8CKdVzyctu8S",
        "outputId": "96aefa5f-c5af-4aed-e486-becded303ad4"
      },
      "source": [
        "# Again its a multiindex, so lets unstack\n",
        "g = lo.groupby([\"NOC\", \"Medal\"]).size()\n",
        "g\n"
      ],
      "execution_count": null,
      "outputs": [
        {
          "output_type": "execute_result",
          "data": {
            "text/plain": [
              "NOC  Medal \n",
              "AFG  Bronze     1\n",
              "ALG  Bronze     1\n",
              "     Silver     1\n",
              "ARG  Bronze    31\n",
              "     Gold      20\n",
              "               ..\n",
              "UZB  Silver     2\n",
              "VEN  Bronze     1\n",
              "VIE  Silver     1\n",
              "ZIM  Gold       1\n",
              "     Silver     3\n",
              "Length: 188, dtype: int64"
            ]
          },
          "metadata": {},
          "execution_count": 292
        }
      ]
    },
    {
      "cell_type": "code",
      "metadata": {
        "colab": {
          "base_uri": "https://localhost:8080/",
          "height": 173
        },
        "id": "YDqxngS7t6m9",
        "outputId": "c28938aa-9c0a-4d14-bd48-5b3132a75db3"
      },
      "source": [
        "g = g.unstack(\"Medal\", fill_value=0) # If there are non-values, fill it with 0\n",
        "g.head(3)"
      ],
      "execution_count": null,
      "outputs": [
        {
          "output_type": "execute_result",
          "data": {
            "text/html": [
              "<div>\n",
              "<style scoped>\n",
              "    .dataframe tbody tr th:only-of-type {\n",
              "        vertical-align: middle;\n",
              "    }\n",
              "\n",
              "    .dataframe tbody tr th {\n",
              "        vertical-align: top;\n",
              "    }\n",
              "\n",
              "    .dataframe thead th {\n",
              "        text-align: right;\n",
              "    }\n",
              "</style>\n",
              "<table border=\"1\" class=\"dataframe\">\n",
              "  <thead>\n",
              "    <tr style=\"text-align: right;\">\n",
              "      <th>Medal</th>\n",
              "      <th>Bronze</th>\n",
              "      <th>Gold</th>\n",
              "      <th>Silver</th>\n",
              "    </tr>\n",
              "    <tr>\n",
              "      <th>NOC</th>\n",
              "      <th></th>\n",
              "      <th></th>\n",
              "      <th></th>\n",
              "    </tr>\n",
              "  </thead>\n",
              "  <tbody>\n",
              "    <tr>\n",
              "      <th>AFG</th>\n",
              "      <td>1</td>\n",
              "      <td>0</td>\n",
              "      <td>0</td>\n",
              "    </tr>\n",
              "    <tr>\n",
              "      <th>ALG</th>\n",
              "      <td>1</td>\n",
              "      <td>0</td>\n",
              "      <td>1</td>\n",
              "    </tr>\n",
              "    <tr>\n",
              "      <th>ARG</th>\n",
              "      <td>31</td>\n",
              "      <td>20</td>\n",
              "      <td>0</td>\n",
              "    </tr>\n",
              "  </tbody>\n",
              "</table>\n",
              "</div>"
            ],
            "text/plain": [
              "Medal  Bronze  Gold  Silver\n",
              "NOC                        \n",
              "AFG         1     0       0\n",
              "ALG         1     0       1\n",
              "ARG        31    20       0"
            ]
          },
          "metadata": {},
          "execution_count": 293
        }
      ]
    },
    {
      "cell_type": "code",
      "metadata": {
        "colab": {
          "base_uri": "https://localhost:8080/"
        },
        "id": "c_4NyLqhuQp8",
        "outputId": "f933854e-a44e-450e-f5dc-0442fb4bd52f"
      },
      "source": [
        "# Note that you can get a column with a single index, that's interesting\n",
        "\n",
        "g[\"Bronze\"]"
      ],
      "execution_count": null,
      "outputs": [
        {
          "output_type": "execute_result",
          "data": {
            "text/plain": [
              "NOC\n",
              "AFG     1\n",
              "ALG     1\n",
              "ARG    31\n",
              "ARM     6\n",
              "AUS    76\n",
              "       ..\n",
              "USA    81\n",
              "UZB     3\n",
              "VEN     1\n",
              "VIE     0\n",
              "ZIM     0\n",
              "Name: Bronze, Length: 86, dtype: int64"
            ]
          },
          "metadata": {},
          "execution_count": 294
        }
      ]
    },
    {
      "cell_type": "code",
      "metadata": {
        "id": "F54GA8NXugVa"
      },
      "source": [
        "# Now we want to sort and change the column list order\n",
        "g = g.sort_values([\"Gold\", \"Silver\", \"Bronze\"], ascending=False)[[\"Gold\", \"Silver\", \"Bronze\"]]"
      ],
      "execution_count": null,
      "outputs": []
    },
    {
      "cell_type": "code",
      "metadata": {
        "colab": {
          "base_uri": "https://localhost:8080/",
          "height": 300
        },
        "id": "U4vl8bxYu6Z2",
        "outputId": "d3a6da3d-d4df-4cf4-aefc-870da01f83cb"
      },
      "source": [
        "sns.heatmap(g)"
      ],
      "execution_count": null,
      "outputs": [
        {
          "output_type": "execute_result",
          "data": {
            "text/plain": [
              "<matplotlib.axes._subplots.AxesSubplot at 0x7f8a28a49150>"
            ]
          },
          "metadata": {},
          "execution_count": 299
        },
        {
          "output_type": "display_data",
          "data": {
            "image/png": "[encoded data removed]",
            "text/plain": [
              "<Figure size 432x288 with 2 Axes>"
            ]
          },
          "metadata": {
            "needs_background": "light"
          }
        }
      ]
    },
    {
      "cell_type": "code",
      "metadata": {
        "colab": {
          "base_uri": "https://localhost:8080/",
          "height": 222
        },
        "id": "0enmcD6MvBR_",
        "outputId": "5f2ae118-0151-4720-ddfb-5c4aa2e74da8"
      },
      "source": [
        "g = g.transpose()\n",
        "g"
      ],
      "execution_count": null,
      "outputs": [
        {
          "output_type": "execute_result",
          "data": {
            "text/html": [
              "<div>\n",
              "<style scoped>\n",
              "    .dataframe tbody tr th:only-of-type {\n",
              "        vertical-align: middle;\n",
              "    }\n",
              "\n",
              "    .dataframe tbody tr th {\n",
              "        vertical-align: top;\n",
              "    }\n",
              "\n",
              "    .dataframe thead th {\n",
              "        text-align: right;\n",
              "    }\n",
              "</style>\n",
              "<table border=\"1\" class=\"dataframe\">\n",
              "  <thead>\n",
              "    <tr style=\"text-align: right;\">\n",
              "      <th>NOC</th>\n",
              "      <th>USA</th>\n",
              "      <th>CHN</th>\n",
              "      <th>RUS</th>\n",
              "      <th>GER</th>\n",
              "      <th>KOR</th>\n",
              "      <th>NED</th>\n",
              "      <th>AUS</th>\n",
              "      <th>GBR</th>\n",
              "      <th>FRA</th>\n",
              "      <th>JPN</th>\n",
              "      <th>ARG</th>\n",
              "      <th>HUN</th>\n",
              "      <th>NOR</th>\n",
              "      <th>BRA</th>\n",
              "      <th>CAN</th>\n",
              "      <th>UKR</th>\n",
              "      <th>JAM</th>\n",
              "      <th>ITA</th>\n",
              "      <th>BLR</th>\n",
              "      <th>ESP</th>\n",
              "      <th>POL</th>\n",
              "      <th>DEN</th>\n",
              "      <th>KEN</th>\n",
              "      <th>ROU</th>\n",
              "      <th>SVK</th>\n",
              "      <th>NZL</th>\n",
              "      <th>ETH</th>\n",
              "      <th>CZE</th>\n",
              "      <th>SUI</th>\n",
              "      <th>GEO</th>\n",
              "      <th>CUB</th>\n",
              "      <th>KAZ</th>\n",
              "      <th>INA</th>\n",
              "      <th>MGL</th>\n",
              "      <th>THA</th>\n",
              "      <th>PRK</th>\n",
              "      <th>MEX</th>\n",
              "      <th>TUR</th>\n",
              "      <th>BEL</th>\n",
              "      <th>ZIM</th>\n",
              "      <th>...</th>\n",
              "      <th>LAT</th>\n",
              "      <th>DOM</th>\n",
              "      <th>POR</th>\n",
              "      <th>IND</th>\n",
              "      <th>IRI</th>\n",
              "      <th>CMR</th>\n",
              "      <th>PAN</th>\n",
              "      <th>TUN</th>\n",
              "      <th>NGR</th>\n",
              "      <th>ISL</th>\n",
              "      <th>SWE</th>\n",
              "      <th>TRI</th>\n",
              "      <th>BAH</th>\n",
              "      <th>GRE</th>\n",
              "      <th>SIN</th>\n",
              "      <th>CRO</th>\n",
              "      <th>LTU</th>\n",
              "      <th>SRB</th>\n",
              "      <th>AUT</th>\n",
              "      <th>IRL</th>\n",
              "      <th>ALG</th>\n",
              "      <th>COL</th>\n",
              "      <th>KGZ</th>\n",
              "      <th>MAR</th>\n",
              "      <th>TJK</th>\n",
              "      <th>CHI</th>\n",
              "      <th>ECU</th>\n",
              "      <th>MAS</th>\n",
              "      <th>RSA</th>\n",
              "      <th>SUD</th>\n",
              "      <th>VIE</th>\n",
              "      <th>ARM</th>\n",
              "      <th>TPE</th>\n",
              "      <th>AFG</th>\n",
              "      <th>EGY</th>\n",
              "      <th>ISR</th>\n",
              "      <th>MDA</th>\n",
              "      <th>MRI</th>\n",
              "      <th>TOG</th>\n",
              "      <th>VEN</th>\n",
              "    </tr>\n",
              "    <tr>\n",
              "      <th>Medal</th>\n",
              "      <th></th>\n",
              "      <th></th>\n",
              "      <th></th>\n",
              "      <th></th>\n",
              "      <th></th>\n",
              "      <th></th>\n",
              "      <th></th>\n",
              "      <th></th>\n",
              "      <th></th>\n",
              "      <th></th>\n",
              "      <th></th>\n",
              "      <th></th>\n",
              "      <th></th>\n",
              "      <th></th>\n",
              "      <th></th>\n",
              "      <th></th>\n",
              "      <th></th>\n",
              "      <th></th>\n",
              "      <th></th>\n",
              "      <th></th>\n",
              "      <th></th>\n",
              "      <th></th>\n",
              "      <th></th>\n",
              "      <th></th>\n",
              "      <th></th>\n",
              "      <th></th>\n",
              "      <th></th>\n",
              "      <th></th>\n",
              "      <th></th>\n",
              "      <th></th>\n",
              "      <th></th>\n",
              "      <th></th>\n",
              "      <th></th>\n",
              "      <th></th>\n",
              "      <th></th>\n",
              "      <th></th>\n",
              "      <th></th>\n",
              "      <th></th>\n",
              "      <th></th>\n",
              "      <th></th>\n",
              "      <th></th>\n",
              "      <th></th>\n",
              "      <th></th>\n",
              "      <th></th>\n",
              "      <th></th>\n",
              "      <th></th>\n",
              "      <th></th>\n",
              "      <th></th>\n",
              "      <th></th>\n",
              "      <th></th>\n",
              "      <th></th>\n",
              "      <th></th>\n",
              "      <th></th>\n",
              "      <th></th>\n",
              "      <th></th>\n",
              "      <th></th>\n",
              "      <th></th>\n",
              "      <th></th>\n",
              "      <th></th>\n",
              "      <th></th>\n",
              "      <th></th>\n",
              "      <th></th>\n",
              "      <th></th>\n",
              "      <th></th>\n",
              "      <th></th>\n",
              "      <th></th>\n",
              "      <th></th>\n",
              "      <th></th>\n",
              "      <th></th>\n",
              "      <th></th>\n",
              "      <th></th>\n",
              "      <th></th>\n",
              "      <th></th>\n",
              "      <th></th>\n",
              "      <th></th>\n",
              "      <th></th>\n",
              "      <th></th>\n",
              "      <th></th>\n",
              "      <th></th>\n",
              "      <th></th>\n",
              "      <th></th>\n",
              "    </tr>\n",
              "  </thead>\n",
              "  <tbody>\n",
              "    <tr>\n",
              "      <th>Gold</th>\n",
              "      <td>125</td>\n",
              "      <td>74</td>\n",
              "      <td>43</td>\n",
              "      <td>42</td>\n",
              "      <td>41</td>\n",
              "      <td>40</td>\n",
              "      <td>31</td>\n",
              "      <td>31</td>\n",
              "      <td>25</td>\n",
              "      <td>23</td>\n",
              "      <td>20</td>\n",
              "      <td>16</td>\n",
              "      <td>16</td>\n",
              "      <td>14</td>\n",
              "      <td>11</td>\n",
              "      <td>10</td>\n",
              "      <td>9</td>\n",
              "      <td>8</td>\n",
              "      <td>8</td>\n",
              "      <td>7</td>\n",
              "      <td>6</td>\n",
              "      <td>6</td>\n",
              "      <td>6</td>\n",
              "      <td>5</td>\n",
              "      <td>4</td>\n",
              "      <td>4</td>\n",
              "      <td>4</td>\n",
              "      <td>3</td>\n",
              "      <td>3</td>\n",
              "      <td>3</td>\n",
              "      <td>2</td>\n",
              "      <td>2</td>\n",
              "      <td>2</td>\n",
              "      <td>2</td>\n",
              "      <td>2</td>\n",
              "      <td>2</td>\n",
              "      <td>2</td>\n",
              "      <td>1</td>\n",
              "      <td>1</td>\n",
              "      <td>1</td>\n",
              "      <td>...</td>\n",
              "      <td>1</td>\n",
              "      <td>1</td>\n",
              "      <td>1</td>\n",
              "      <td>1</td>\n",
              "      <td>1</td>\n",
              "      <td>1</td>\n",
              "      <td>1</td>\n",
              "      <td>1</td>\n",
              "      <td>0</td>\n",
              "      <td>0</td>\n",
              "      <td>0</td>\n",
              "      <td>0</td>\n",
              "      <td>0</td>\n",
              "      <td>0</td>\n",
              "      <td>0</td>\n",
              "      <td>0</td>\n",
              "      <td>0</td>\n",
              "      <td>0</td>\n",
              "      <td>0</td>\n",
              "      <td>0</td>\n",
              "      <td>0</td>\n",
              "      <td>0</td>\n",
              "      <td>0</td>\n",
              "      <td>0</td>\n",
              "      <td>0</td>\n",
              "      <td>0</td>\n",
              "      <td>0</td>\n",
              "      <td>0</td>\n",
              "      <td>0</td>\n",
              "      <td>0</td>\n",
              "      <td>0</td>\n",
              "      <td>0</td>\n",
              "      <td>0</td>\n",
              "      <td>0</td>\n",
              "      <td>0</td>\n",
              "      <td>0</td>\n",
              "      <td>0</td>\n",
              "      <td>0</td>\n",
              "      <td>0</td>\n",
              "      <td>0</td>\n",
              "    </tr>\n",
              "    <tr>\n",
              "      <th>Silver</th>\n",
              "      <td>109</td>\n",
              "      <td>53</td>\n",
              "      <td>44</td>\n",
              "      <td>16</td>\n",
              "      <td>11</td>\n",
              "      <td>18</td>\n",
              "      <td>42</td>\n",
              "      <td>25</td>\n",
              "      <td>23</td>\n",
              "      <td>11</td>\n",
              "      <td>0</td>\n",
              "      <td>8</td>\n",
              "      <td>5</td>\n",
              "      <td>34</td>\n",
              "      <td>13</td>\n",
              "      <td>5</td>\n",
              "      <td>3</td>\n",
              "      <td>14</td>\n",
              "      <td>5</td>\n",
              "      <td>48</td>\n",
              "      <td>13</td>\n",
              "      <td>6</td>\n",
              "      <td>4</td>\n",
              "      <td>1</td>\n",
              "      <td>5</td>\n",
              "      <td>2</td>\n",
              "      <td>1</td>\n",
              "      <td>4</td>\n",
              "      <td>0</td>\n",
              "      <td>0</td>\n",
              "      <td>34</td>\n",
              "      <td>4</td>\n",
              "      <td>2</td>\n",
              "      <td>2</td>\n",
              "      <td>2</td>\n",
              "      <td>1</td>\n",
              "      <td>0</td>\n",
              "      <td>4</td>\n",
              "      <td>4</td>\n",
              "      <td>3</td>\n",
              "      <td>...</td>\n",
              "      <td>1</td>\n",
              "      <td>1</td>\n",
              "      <td>1</td>\n",
              "      <td>0</td>\n",
              "      <td>0</td>\n",
              "      <td>0</td>\n",
              "      <td>0</td>\n",
              "      <td>0</td>\n",
              "      <td>18</td>\n",
              "      <td>14</td>\n",
              "      <td>5</td>\n",
              "      <td>5</td>\n",
              "      <td>4</td>\n",
              "      <td>3</td>\n",
              "      <td>3</td>\n",
              "      <td>2</td>\n",
              "      <td>2</td>\n",
              "      <td>1</td>\n",
              "      <td>1</td>\n",
              "      <td>1</td>\n",
              "      <td>1</td>\n",
              "      <td>1</td>\n",
              "      <td>1</td>\n",
              "      <td>1</td>\n",
              "      <td>1</td>\n",
              "      <td>1</td>\n",
              "      <td>1</td>\n",
              "      <td>1</td>\n",
              "      <td>1</td>\n",
              "      <td>1</td>\n",
              "      <td>1</td>\n",
              "      <td>0</td>\n",
              "      <td>0</td>\n",
              "      <td>0</td>\n",
              "      <td>0</td>\n",
              "      <td>0</td>\n",
              "      <td>0</td>\n",
              "      <td>0</td>\n",
              "      <td>0</td>\n",
              "      <td>0</td>\n",
              "    </tr>\n",
              "    <tr>\n",
              "      <th>Bronze</th>\n",
              "      <td>81</td>\n",
              "      <td>57</td>\n",
              "      <td>56</td>\n",
              "      <td>43</td>\n",
              "      <td>26</td>\n",
              "      <td>4</td>\n",
              "      <td>76</td>\n",
              "      <td>21</td>\n",
              "      <td>28</td>\n",
              "      <td>17</td>\n",
              "      <td>31</td>\n",
              "      <td>3</td>\n",
              "      <td>1</td>\n",
              "      <td>27</td>\n",
              "      <td>10</td>\n",
              "      <td>16</td>\n",
              "      <td>5</td>\n",
              "      <td>20</td>\n",
              "      <td>17</td>\n",
              "      <td>16</td>\n",
              "      <td>1</td>\n",
              "      <td>6</td>\n",
              "      <td>4</td>\n",
              "      <td>16</td>\n",
              "      <td>1</td>\n",
              "      <td>8</td>\n",
              "      <td>2</td>\n",
              "      <td>0</td>\n",
              "      <td>8</td>\n",
              "      <td>3</td>\n",
              "      <td>11</td>\n",
              "      <td>7</td>\n",
              "      <td>3</td>\n",
              "      <td>0</td>\n",
              "      <td>0</td>\n",
              "      <td>3</td>\n",
              "      <td>2</td>\n",
              "      <td>3</td>\n",
              "      <td>0</td>\n",
              "      <td>0</td>\n",
              "      <td>...</td>\n",
              "      <td>1</td>\n",
              "      <td>0</td>\n",
              "      <td>0</td>\n",
              "      <td>2</td>\n",
              "      <td>1</td>\n",
              "      <td>0</td>\n",
              "      <td>0</td>\n",
              "      <td>0</td>\n",
              "      <td>6</td>\n",
              "      <td>0</td>\n",
              "      <td>2</td>\n",
              "      <td>0</td>\n",
              "      <td>1</td>\n",
              "      <td>4</td>\n",
              "      <td>0</td>\n",
              "      <td>3</td>\n",
              "      <td>3</td>\n",
              "      <td>14</td>\n",
              "      <td>2</td>\n",
              "      <td>2</td>\n",
              "      <td>1</td>\n",
              "      <td>1</td>\n",
              "      <td>1</td>\n",
              "      <td>1</td>\n",
              "      <td>1</td>\n",
              "      <td>0</td>\n",
              "      <td>0</td>\n",
              "      <td>0</td>\n",
              "      <td>0</td>\n",
              "      <td>0</td>\n",
              "      <td>0</td>\n",
              "      <td>6</td>\n",
              "      <td>4</td>\n",
              "      <td>1</td>\n",
              "      <td>1</td>\n",
              "      <td>1</td>\n",
              "      <td>1</td>\n",
              "      <td>1</td>\n",
              "      <td>1</td>\n",
              "      <td>1</td>\n",
              "    </tr>\n",
              "  </tbody>\n",
              "</table>\n",
              "<p>3 rows × 86 columns</p>\n",
              "</div>"
            ],
            "text/plain": [
              "NOC     USA  CHN  RUS  GER  KOR  NED  AUS  ...  AFG  EGY  ISR  MDA  MRI  TOG  VEN\n",
              "Medal                                      ...                                   \n",
              "Gold    125   74   43   42   41   40   31  ...    0    0    0    0    0    0    0\n",
              "Silver  109   53   44   16   11   18   42  ...    0    0    0    0    0    0    0\n",
              "Bronze   81   57   56   43   26    4   76  ...    1    1    1    1    1    1    1\n",
              "\n",
              "[3 rows x 86 columns]"
            ]
          },
          "metadata": {},
          "execution_count": 302
        }
      ]
    },
    {
      "cell_type": "code",
      "metadata": {
        "colab": {
          "base_uri": "https://localhost:8080/",
          "height": 364
        },
        "id": "fXb5X_WLvHQz",
        "outputId": "90b8aca9-df78-4ff3-ee03-552f743f43ce"
      },
      "source": [
        "plt.figure(figsize=(16,5))\n",
        "sns.heatmap(g)"
      ],
      "execution_count": null,
      "outputs": [
        {
          "output_type": "execute_result",
          "data": {
            "text/plain": [
              "<matplotlib.axes._subplots.AxesSubplot at 0x7f8a28eda790>"
            ]
          },
          "metadata": {},
          "execution_count": 305
        },
        {
          "output_type": "display_data",
          "data": {
            "image/png": "[encoded data removed]",
            "text/plain": [
              "<Figure size 1152x360 with 2 Axes>"
            ]
          },
          "metadata": {
            "needs_background": "light"
          }
        }
      ]
    }
  ]
}